{
 "cells": [
  {
   "cell_type": "code",
   "execution_count": 1,
   "metadata": {
    "collapsed": false
   },
   "outputs": [
    {
     "data": {
      "text/html": [
       "\n",
       "    <div class=\"bk-root\">\n",
       "        <a href=\"http://bokeh.pydata.org\" target=\"_blank\" class=\"bk-logo bk-logo-small bk-logo-notebook\"></a>\n",
       "        <span id=\"095a7d1f-0066-4748-80be-cec489d92731\">Loading BokehJS ...</span>\n",
       "    </div>"
      ]
     },
     "metadata": {},
     "output_type": "display_data"
    },
    {
     "data": {
      "application/javascript": [
       "\n",
       "(function(global) {\n",
       "  function now() {\n",
       "    return new Date();\n",
       "  }\n",
       "\n",
       "  var force = \"1\";\n",
       "\n",
       "  if (typeof (window._bokeh_onload_callbacks) === \"undefined\" || force !== \"\") {\n",
       "    window._bokeh_onload_callbacks = [];\n",
       "    window._bokeh_is_loading = undefined;\n",
       "  }\n",
       "\n",
       "\n",
       "  \n",
       "  if (typeof (window._bokeh_timeout) === \"undefined\" || force !== \"\") {\n",
       "    window._bokeh_timeout = Date.now() + 5000;\n",
       "    window._bokeh_failed_load = false;\n",
       "  }\n",
       "\n",
       "  var NB_LOAD_WARNING = {'data': {'text/html':\n",
       "     \"<div style='background-color: #fdd'>\\n\"+\n",
       "     \"<p>\\n\"+\n",
       "     \"BokehJS does not appear to have successfully loaded. If loading BokehJS from CDN, this \\n\"+\n",
       "     \"may be due to a slow or bad network connection. Possible fixes:\\n\"+\n",
       "     \"</p>\\n\"+\n",
       "     \"<ul>\\n\"+\n",
       "     \"<li>re-rerun `output_notebook()` to attempt to load from CDN again, or</li>\\n\"+\n",
       "     \"<li>use INLINE resources instead, as so:</li>\\n\"+\n",
       "     \"</ul>\\n\"+\n",
       "     \"<code>\\n\"+\n",
       "     \"from bokeh.resources import INLINE\\n\"+\n",
       "     \"output_notebook(resources=INLINE)\\n\"+\n",
       "     \"</code>\\n\"+\n",
       "     \"</div>\"}};\n",
       "\n",
       "  function display_loaded() {\n",
       "    if (window.Bokeh !== undefined) {\n",
       "      Bokeh.$(\"#095a7d1f-0066-4748-80be-cec489d92731\").text(\"BokehJS successfully loaded.\");\n",
       "    } else if (Date.now() < window._bokeh_timeout) {\n",
       "      setTimeout(display_loaded, 100)\n",
       "    }\n",
       "  }\n",
       "\n",
       "  function run_callbacks() {\n",
       "    window._bokeh_onload_callbacks.forEach(function(callback) { callback() });\n",
       "    delete window._bokeh_onload_callbacks\n",
       "    console.info(\"Bokeh: all callbacks have finished\");\n",
       "  }\n",
       "\n",
       "  function load_libs(js_urls, callback) {\n",
       "    window._bokeh_onload_callbacks.push(callback);\n",
       "    if (window._bokeh_is_loading > 0) {\n",
       "      console.log(\"Bokeh: BokehJS is being loaded, scheduling callback at\", now());\n",
       "      return null;\n",
       "    }\n",
       "    if (js_urls == null || js_urls.length === 0) {\n",
       "      run_callbacks();\n",
       "      return null;\n",
       "    }\n",
       "    console.log(\"Bokeh: BokehJS not loaded, scheduling load and callback at\", now());\n",
       "    window._bokeh_is_loading = js_urls.length;\n",
       "    for (var i = 0; i < js_urls.length; i++) {\n",
       "      var url = js_urls[i];\n",
       "      var s = document.createElement('script');\n",
       "      s.src = url;\n",
       "      s.async = false;\n",
       "      s.onreadystatechange = s.onload = function() {\n",
       "        window._bokeh_is_loading--;\n",
       "        if (window._bokeh_is_loading === 0) {\n",
       "          console.log(\"Bokeh: all BokehJS libraries loaded\");\n",
       "          run_callbacks()\n",
       "        }\n",
       "      };\n",
       "      s.onerror = function() {\n",
       "        console.warn(\"failed to load library \" + url);\n",
       "      };\n",
       "      console.log(\"Bokeh: injecting script tag for BokehJS library: \", url);\n",
       "      document.getElementsByTagName(\"head\")[0].appendChild(s);\n",
       "    }\n",
       "  };var element = document.getElementById(\"095a7d1f-0066-4748-80be-cec489d92731\");\n",
       "  if (element == null) {\n",
       "    console.log(\"Bokeh: ERROR: autoload.js configured with elementid '095a7d1f-0066-4748-80be-cec489d92731' but no matching script tag was found. \")\n",
       "    return false;\n",
       "  }\n",
       "\n",
       "  var js_urls = ['https://cdn.pydata.org/bokeh/release/bokeh-0.12.2.min.js', 'https://cdn.pydata.org/bokeh/release/bokeh-widgets-0.12.2.min.js', 'https://cdn.pydata.org/bokeh/release/bokeh-compiler-0.12.2.min.js'];\n",
       "\n",
       "  var inline_js = [\n",
       "    function(Bokeh) {\n",
       "      Bokeh.set_log_level(\"info\");\n",
       "    },\n",
       "    \n",
       "    function(Bokeh) {\n",
       "      \n",
       "      Bokeh.$(\"#095a7d1f-0066-4748-80be-cec489d92731\").text(\"BokehJS is loading...\");\n",
       "    },\n",
       "    function(Bokeh) {\n",
       "      console.log(\"Bokeh: injecting CSS: https://cdn.pydata.org/bokeh/release/bokeh-0.12.2.min.css\");\n",
       "      Bokeh.embed.inject_css(\"https://cdn.pydata.org/bokeh/release/bokeh-0.12.2.min.css\");\n",
       "      console.log(\"Bokeh: injecting CSS: https://cdn.pydata.org/bokeh/release/bokeh-widgets-0.12.2.min.css\");\n",
       "      Bokeh.embed.inject_css(\"https://cdn.pydata.org/bokeh/release/bokeh-widgets-0.12.2.min.css\");\n",
       "    }\n",
       "  ];\n",
       "\n",
       "  function run_inline_js() {\n",
       "    \n",
       "    if ((window.Bokeh !== undefined) || (force === \"1\")) {\n",
       "      for (var i = 0; i < inline_js.length; i++) {\n",
       "        inline_js[i](window.Bokeh);\n",
       "      }if (force === \"1\") {\n",
       "        display_loaded();\n",
       "      }} else if (Date.now() < window._bokeh_timeout) {\n",
       "      setTimeout(run_inline_js, 100);\n",
       "    } else if (!window._bokeh_failed_load) {\n",
       "      console.log(\"Bokeh: BokehJS failed to load within specified timeout.\");\n",
       "      window._bokeh_failed_load = true;\n",
       "    } else if (!force) {\n",
       "      var cell = $(\"#095a7d1f-0066-4748-80be-cec489d92731\").parents('.cell').data().cell;\n",
       "      cell.output_area.append_execute_result(NB_LOAD_WARNING)\n",
       "    }\n",
       "\n",
       "  }\n",
       "\n",
       "  if (window._bokeh_is_loading === 0) {\n",
       "    console.log(\"Bokeh: BokehJS loaded, going straight to plotting\");\n",
       "    run_inline_js();\n",
       "  } else {\n",
       "    load_libs(js_urls, function() {\n",
       "      console.log(\"Bokeh: BokehJS plotting callback run at\", now());\n",
       "      run_inline_js();\n",
       "    });\n",
       "  }\n",
       "}(this));"
      ]
     },
     "metadata": {},
     "output_type": "display_data"
    }
   ],
   "source": [
    "# Important! This notebook runs on Python 3\n",
    "\n",
    "import pandas as pd\n",
    "import numpy as np\n",
    "from numpy import random\n",
    "import time\n",
    "\n",
    "# Visualization\n",
    "from bokeh.plotting import figure, output_file, show\n",
    "from ipywidgets import interact\n",
    "from bokeh.io import push_notebook, show, output_notebook\n",
    "output_notebook()"
   ]
  },
  {
   "cell_type": "code",
   "execution_count": 2,
   "metadata": {
    "collapsed": false
   },
   "outputs": [],
   "source": [
    "# Necessary world information\n",
    "\n",
    "# Prices and Costs\n",
    "# Prices of one beer at each level of the supply chain.\n",
    "retail_price = 10\n",
    "wholesale_price = 9\n",
    "regional_warehouse_price = 8\n",
    "factory_price = 7\n",
    "field_price = 6\n",
    "# Cost of holding one beer during one day on warehouse.\n",
    "# Assumed to be the same for all levels\n",
    "warehouse_price = 0.01\n",
    "# Cost of backlog: non fulfilled orders\n",
    "backlog_cost = 0\n",
    "\n",
    "# Initial Inventories\n",
    "retail_ininv = 20\n",
    "wholesale_ininv = 20\n",
    "regional_warehouse_ininv = 20\n",
    "factory_ininv = 20"
   ]
  },
  {
   "cell_type": "code",
   "execution_count": 3,
   "metadata": {
    "collapsed": false
   },
   "outputs": [],
   "source": [
    "class Customer:\n",
    "    \"\"\"\n",
    "    This type of agent doesn't learn, just interacts with Retail by demanding beer\n",
    "    \"\"\"\n",
    "    def __init__(self,demand_trend):\n",
    "        self.current_policy = demand_trend['Demand']\n",
    "\n",
    "class Fields:\n",
    "    \"\"\"\n",
    "    This type of agent doesn't learn, just interacts with Factory by supplying beer\n",
    "    \"\"\"\n",
    "    def __init__(self,supply_trend):\n",
    "        self.current_policy = supply_trend['Supply']  \n",
    "\n",
    "class Agent:\n",
    "    \"\"\"\n",
    "    Creates a Beer Supply Chain Agent ready to start interacting\n",
    "    with other agents and learn.\n",
    "    input:\n",
    "    * name (string) indicating the type of agent, can be one of four:\n",
    "    {Retail,Wholesale,Regional_Warehouse,Factory} \n",
    "    * inventory (numeric) starting inventory at day 1 \n",
    "    output: an object of type Agent\n",
    "    \"\"\"\n",
    "    def __init__(self,name,inventory):\n",
    "        \n",
    "        # I am letting different levels have different selling and buying prices\n",
    "        # This could also include different warehousing/backlogs costs\n",
    "        if name == \"Retail\":\n",
    "            self.selling_price = retail_price\n",
    "            self.buying_price = wholesale_price\n",
    "        elif name == \"Wholesale\":\n",
    "            self.selling_price = wholesale_price\n",
    "            self.buying_price = regional_warehouse_price\n",
    "        elif name == \"Regional_Warehouse\":\n",
    "            self.selling_price = regional_warehouse_price\n",
    "            self.buying_price = factory_price\n",
    "        elif name == \"Factory\":\n",
    "            self.selling_price = factory_price\n",
    "            self.buying_price = field_price\n",
    "        \n",
    "        self.name = name\n",
    "        self.initial_inventory = inventory\n",
    "        self.inventory = inventory\n",
    "        self.policy_inventory = [self.initial_inventory] + [-1] * 364\n",
    "        self.total_warehousing_costs = 0\n",
    "        self.total_money = 0\n",
    "        self.backlog = 0\n",
    "        self.current_policy = [0] * 365\n",
    "        self.current_payout = [0] * 365\n",
    "        self.best_policy = [0] * 365\n",
    "        self.best_payout = [-100000000] * 365\n",
    "        self.historic_payout = []\n",
    "        \n",
    "        # These relationships are assigned after the agents are created\n",
    "        self.downstream_agent =  \"\"\n",
    "        self.upstream_agent =  \"\"\n",
    "        # This is needed for having a warm start and not going crazy\n",
    "        self.average_downstream_demand = 0\n",
    "    \n",
    "    def pay_for_warehousing(self):\n",
    "        # Pays for warehousing of inventory: must be done either\n",
    "        # \"first thing in the morning\" or \"last time in the night\"\n",
    "        self.total_money = self.total_money - \\\n",
    "                (self.inventory * warehouse_price)\n",
    "    \n",
    "    def receive_upstream(self,orders):\n",
    "        # Receives orders from upstream agent first thing in the morning\n",
    "        self.inventory = self.inventory + orders\n",
    "        self.total_money = self.total_money - \\\n",
    "                (orders * self.buying_price)\n",
    "        \n",
    "    def give_downstream(self,orders):\n",
    "        # Checks if he has availability to fulfill order,\n",
    "        # fulfills as much as he can\n",
    "        if self.inventory >= orders:\n",
    "            self.total_money = self.total_money + \\\n",
    "                (orders * self.selling_price)\n",
    "            self.inventory = self.inventory - orders\n",
    "            return orders\n",
    "        else:\n",
    "            orders_that_could_be_fulfilled = self.inventory\n",
    "            # Sells all its inventory\n",
    "            self.total_money = self.total_money + \\\n",
    "                (orders_that_could_be_fulfilled * self.selling_price)\n",
    "            # If there were non fulfilled orders, those cause a penalty\n",
    "            self.backlog = (orders - self.inventory) * backlog_cost\n",
    "            self.total_money = self.total_money - self.backlog\n",
    "            self.inventory = 0\n",
    "            return orders_that_could_be_fulfilled"
   ]
  },
  {
   "cell_type": "markdown",
   "metadata": {},
   "source": [
    "# Creating the world \n",
    "\n",
    "We need a customer with a yearly demand trend, and fields with a yearly supply trend.\n",
    "\n",
    "After that, we need to create the agents that will comprise our supply chain, and then assign the relationships (upstream, downstream) between them."
   ]
  },
  {
   "cell_type": "code",
   "execution_count": 4,
   "metadata": {
    "collapsed": false
   },
   "outputs": [],
   "source": [
    "# Creating the world! Setting supply and demand trends, assigning interactions between agents\n",
    "\n",
    "# Getting customer_demand and field_supply trends\n",
    "# TODO: Both should be added a small random effect each time (iteration/epoch)\n",
    "customer_demand = pd.read_csv(\"../../aux_documents/customer_trend.csv\")\n",
    "fields_supply = pd.read_csv(\"../../aux_documents/fields_trend.csv\")\n",
    "\n",
    "# Creating Supply Chain Agents\n",
    "customer_agent = Customer(customer_demand)\n",
    "retail_agent = Agent(\"Retail\", retail_ininv)\n",
    "wholesale_agent = Agent(\"Wholesale\", wholesale_ininv)\n",
    "regional_warehouse_agent = Agent(\"Regional_Warehouse\", regional_warehouse_ininv)\n",
    "factory_agent = Agent(\"Factory\",factory_ininv)\n",
    "fields_agent = Fields(fields_supply)\n",
    "\n",
    "# Assigning interactions\n",
    "retail_agent.downstream_agent = customer_agent\n",
    "retail_agent.upstream_agent = wholesale_agent\n",
    "wholesale_agent.downstream_agent = retail_agent\n",
    "wholesale_agent.upstream_agent = regional_warehouse_agent\n",
    "regional_warehouse_agent.downstream_agent = wholesale_agent\n",
    "regional_warehouse_agent.upstream_agent = factory_agent\n",
    "factory_agent.downstream_agent = regional_warehouse_agent\n",
    "factory_agent.upstream_agent = fields_agent"
   ]
  },
  {
   "cell_type": "markdown",
   "metadata": {},
   "source": [
    "Let's take a look at the supply and demand trends!"
   ]
  },
  {
   "cell_type": "code",
   "execution_count": 5,
   "metadata": {
    "collapsed": false
   },
   "outputs": [],
   "source": [
    "p_cd = figure(title=\"Customer Demand - weekly trend with a peak on Independence Day and increased demand on Christmas Holidays\", plot_height=450, plot_width=900, x_range = (0,365), y_range=(0,6))\n",
    "r_cd = p_cd.line(range(365), customer_agent.current_policy, color=\"seagreen\")\n",
    "p_cd.xaxis.axis_label = \"Day\"\n",
    "p_cd.yaxis.axis_label = \"Demand\""
   ]
  },
  {
   "cell_type": "code",
   "execution_count": 6,
   "metadata": {
    "collapsed": false
   },
   "outputs": [
    {
     "data": {
      "text/html": [
       "\n",
       "\n",
       "    <div class=\"bk-root\">\n",
       "        <div class=\"plotdiv\" id=\"dbc02030-29b3-414e-9c01-81fd381d213c\"></div>\n",
       "    </div>\n",
       "<script type=\"text/javascript\">\n",
       "  \n",
       "  (function(global) {\n",
       "    function now() {\n",
       "      return new Date();\n",
       "    }\n",
       "  \n",
       "    var force = \"\";\n",
       "  \n",
       "    if (typeof (window._bokeh_onload_callbacks) === \"undefined\" || force !== \"\") {\n",
       "      window._bokeh_onload_callbacks = [];\n",
       "      window._bokeh_is_loading = undefined;\n",
       "    }\n",
       "  \n",
       "  \n",
       "    \n",
       "    if (typeof (window._bokeh_timeout) === \"undefined\" || force !== \"\") {\n",
       "      window._bokeh_timeout = Date.now() + 0;\n",
       "      window._bokeh_failed_load = false;\n",
       "    }\n",
       "  \n",
       "    var NB_LOAD_WARNING = {'data': {'text/html':\n",
       "       \"<div style='background-color: #fdd'>\\n\"+\n",
       "       \"<p>\\n\"+\n",
       "       \"BokehJS does not appear to have successfully loaded. If loading BokehJS from CDN, this \\n\"+\n",
       "       \"may be due to a slow or bad network connection. Possible fixes:\\n\"+\n",
       "       \"</p>\\n\"+\n",
       "       \"<ul>\\n\"+\n",
       "       \"<li>re-rerun `output_notebook()` to attempt to load from CDN again, or</li>\\n\"+\n",
       "       \"<li>use INLINE resources instead, as so:</li>\\n\"+\n",
       "       \"</ul>\\n\"+\n",
       "       \"<code>\\n\"+\n",
       "       \"from bokeh.resources import INLINE\\n\"+\n",
       "       \"output_notebook(resources=INLINE)\\n\"+\n",
       "       \"</code>\\n\"+\n",
       "       \"</div>\"}};\n",
       "  \n",
       "    function display_loaded() {\n",
       "      if (window.Bokeh !== undefined) {\n",
       "        Bokeh.$(\"#dbc02030-29b3-414e-9c01-81fd381d213c\").text(\"BokehJS successfully loaded.\");\n",
       "      } else if (Date.now() < window._bokeh_timeout) {\n",
       "        setTimeout(display_loaded, 100)\n",
       "      }\n",
       "    }if ((window.Jupyter !== undefined) && Jupyter.notebook.kernel) {\n",
       "      comm_manager = Jupyter.notebook.kernel.comm_manager\n",
       "      comm_manager.register_target(\"46725fa5-d7be-480c-a67b-feec2e3fbe47\", function () {});\n",
       "    }\n",
       "  \n",
       "    function run_callbacks() {\n",
       "      window._bokeh_onload_callbacks.forEach(function(callback) { callback() });\n",
       "      delete window._bokeh_onload_callbacks\n",
       "      console.info(\"Bokeh: all callbacks have finished\");\n",
       "    }\n",
       "  \n",
       "    function load_libs(js_urls, callback) {\n",
       "      window._bokeh_onload_callbacks.push(callback);\n",
       "      if (window._bokeh_is_loading > 0) {\n",
       "        console.log(\"Bokeh: BokehJS is being loaded, scheduling callback at\", now());\n",
       "        return null;\n",
       "      }\n",
       "      if (js_urls == null || js_urls.length === 0) {\n",
       "        run_callbacks();\n",
       "        return null;\n",
       "      }\n",
       "      console.log(\"Bokeh: BokehJS not loaded, scheduling load and callback at\", now());\n",
       "      window._bokeh_is_loading = js_urls.length;\n",
       "      for (var i = 0; i < js_urls.length; i++) {\n",
       "        var url = js_urls[i];\n",
       "        var s = document.createElement('script');\n",
       "        s.src = url;\n",
       "        s.async = false;\n",
       "        s.onreadystatechange = s.onload = function() {\n",
       "          window._bokeh_is_loading--;\n",
       "          if (window._bokeh_is_loading === 0) {\n",
       "            console.log(\"Bokeh: all BokehJS libraries loaded\");\n",
       "            run_callbacks()\n",
       "          }\n",
       "        };\n",
       "        s.onerror = function() {\n",
       "          console.warn(\"failed to load library \" + url);\n",
       "        };\n",
       "        console.log(\"Bokeh: injecting script tag for BokehJS library: \", url);\n",
       "        document.getElementsByTagName(\"head\")[0].appendChild(s);\n",
       "      }\n",
       "    };var element = document.getElementById(\"dbc02030-29b3-414e-9c01-81fd381d213c\");\n",
       "    if (element == null) {\n",
       "      console.log(\"Bokeh: ERROR: autoload.js configured with elementid 'dbc02030-29b3-414e-9c01-81fd381d213c' but no matching script tag was found. \")\n",
       "      return false;\n",
       "    }\n",
       "  \n",
       "    var js_urls = [];\n",
       "  \n",
       "    var inline_js = [\n",
       "      function(Bokeh) {\n",
       "        Bokeh.$(function() {\n",
       "            var docs_json = {\"b972fa2b-c775-43ec-a7cc-be9188d1b29d\":{\"roots\":{\"references\":[{\"attributes\":{\"below\":[{\"id\":\"74e08986-8e20-4435-a959-f9b15f21675a\",\"type\":\"LinearAxis\"}],\"left\":[{\"id\":\"8ca29e55-1d8c-44af-bd61-a90b4701de1e\",\"type\":\"LinearAxis\"}],\"plot_height\":450,\"plot_width\":900,\"renderers\":[{\"id\":\"74e08986-8e20-4435-a959-f9b15f21675a\",\"type\":\"LinearAxis\"},{\"id\":\"4f147c88-2427-4ff9-ac4a-d13120ae90d0\",\"type\":\"Grid\"},{\"id\":\"8ca29e55-1d8c-44af-bd61-a90b4701de1e\",\"type\":\"LinearAxis\"},{\"id\":\"c22001f1-56a4-4592-a3f4-89d97992728a\",\"type\":\"Grid\"},{\"id\":\"6eb44dc2-92a0-42e7-8564-90b482646a2c\",\"type\":\"BoxAnnotation\"},{\"id\":\"aa6cf844-a40f-44f4-a21e-d0a05cd2beb4\",\"type\":\"GlyphRenderer\"}],\"title\":{\"id\":\"39d43c00-555a-4a55-a796-c494915704b1\",\"type\":\"Title\"},\"tool_events\":{\"id\":\"2abb22d1-5d28-4d37-911e-05b4024c79ed\",\"type\":\"ToolEvents\"},\"toolbar\":{\"id\":\"9563ca63-50d1-42d5-80de-403521af1ca7\",\"type\":\"Toolbar\"},\"x_range\":{\"id\":\"380de5f1-e255-4b1e-ab0c-e1c0eeef6f1b\",\"type\":\"Range1d\"},\"y_range\":{\"id\":\"a33af302-0662-4a9e-929a-dfa731778edb\",\"type\":\"Range1d\"}},\"id\":\"f6133570-a41e-40e3-a7ad-3a48cf9e322b\",\"subtype\":\"Figure\",\"type\":\"Plot\"},{\"attributes\":{\"dimension\":1,\"plot\":{\"id\":\"f6133570-a41e-40e3-a7ad-3a48cf9e322b\",\"subtype\":\"Figure\",\"type\":\"Plot\"},\"ticker\":{\"id\":\"8196120b-ac1d-433e-b1b8-f929c9e86656\",\"type\":\"BasicTicker\"}},\"id\":\"c22001f1-56a4-4592-a3f4-89d97992728a\",\"type\":\"Grid\"},{\"attributes\":{\"plot\":{\"id\":\"f6133570-a41e-40e3-a7ad-3a48cf9e322b\",\"subtype\":\"Figure\",\"type\":\"Plot\"}},\"id\":\"c9405438-9ecd-4328-ad28-2571406b6d8c\",\"type\":\"SaveTool\"},{\"attributes\":{\"axis_label\":\"Demand\",\"formatter\":{\"id\":\"e3844a9b-2083-4bf4-9e8b-86fb77190d6b\",\"type\":\"BasicTickFormatter\"},\"plot\":{\"id\":\"f6133570-a41e-40e3-a7ad-3a48cf9e322b\",\"subtype\":\"Figure\",\"type\":\"Plot\"},\"ticker\":{\"id\":\"8196120b-ac1d-433e-b1b8-f929c9e86656\",\"type\":\"BasicTicker\"}},\"id\":\"8ca29e55-1d8c-44af-bd61-a90b4701de1e\",\"type\":\"LinearAxis\"},{\"attributes\":{},\"id\":\"f2c194a1-afd1-4e7d-a782-9b72859c14a8\",\"type\":\"BasicTickFormatter\"},{\"attributes\":{\"callback\":null,\"end\":6},\"id\":\"a33af302-0662-4a9e-929a-dfa731778edb\",\"type\":\"Range1d\"},{\"attributes\":{\"plot\":{\"id\":\"f6133570-a41e-40e3-a7ad-3a48cf9e322b\",\"subtype\":\"Figure\",\"type\":\"Plot\"}},\"id\":\"1080403d-6740-4330-af8c-27c8b9d00839\",\"type\":\"HelpTool\"},{\"attributes\":{},\"id\":\"d875ed7b-a3dc-4302-81f0-4a4ef579f68e\",\"type\":\"BasicTicker\"},{\"attributes\":{\"axis_label\":\"Day\",\"formatter\":{\"id\":\"f2c194a1-afd1-4e7d-a782-9b72859c14a8\",\"type\":\"BasicTickFormatter\"},\"plot\":{\"id\":\"f6133570-a41e-40e3-a7ad-3a48cf9e322b\",\"subtype\":\"Figure\",\"type\":\"Plot\"},\"ticker\":{\"id\":\"d875ed7b-a3dc-4302-81f0-4a4ef579f68e\",\"type\":\"BasicTicker\"}},\"id\":\"74e08986-8e20-4435-a959-f9b15f21675a\",\"type\":\"LinearAxis\"},{\"attributes\":{\"line_color\":{\"value\":\"seagreen\"},\"x\":{\"field\":\"x\"},\"y\":{\"field\":\"y\"}},\"id\":\"e390799d-23b2-4b91-b993-813161cab068\",\"type\":\"Line\"},{\"attributes\":{\"data_source\":{\"id\":\"7301960c-e5d2-4cd2-816e-e6644a054ae5\",\"type\":\"ColumnDataSource\"},\"glyph\":{\"id\":\"e390799d-23b2-4b91-b993-813161cab068\",\"type\":\"Line\"},\"hover_glyph\":null,\"nonselection_glyph\":{\"id\":\"43d23cc2-3159-4635-99e2-12ff1a33c4c9\",\"type\":\"Line\"},\"selection_glyph\":null},\"id\":\"aa6cf844-a40f-44f4-a21e-d0a05cd2beb4\",\"type\":\"GlyphRenderer\"},{\"attributes\":{\"overlay\":{\"id\":\"6eb44dc2-92a0-42e7-8564-90b482646a2c\",\"type\":\"BoxAnnotation\"},\"plot\":{\"id\":\"f6133570-a41e-40e3-a7ad-3a48cf9e322b\",\"subtype\":\"Figure\",\"type\":\"Plot\"}},\"id\":\"5de905c0-0b35-400c-b235-6c8c78120944\",\"type\":\"BoxZoomTool\"},{\"attributes\":{\"plot\":{\"id\":\"f6133570-a41e-40e3-a7ad-3a48cf9e322b\",\"subtype\":\"Figure\",\"type\":\"Plot\"}},\"id\":\"5f190a13-9ea8-4061-8c5d-01e84de32ed0\",\"type\":\"WheelZoomTool\"},{\"attributes\":{\"bottom_units\":\"screen\",\"fill_alpha\":{\"value\":0.5},\"fill_color\":{\"value\":\"lightgrey\"},\"left_units\":\"screen\",\"level\":\"overlay\",\"line_alpha\":{\"value\":1.0},\"line_color\":{\"value\":\"black\"},\"line_dash\":[4,4],\"line_width\":{\"value\":2},\"plot\":null,\"render_mode\":\"css\",\"right_units\":\"screen\",\"top_units\":\"screen\"},\"id\":\"6eb44dc2-92a0-42e7-8564-90b482646a2c\",\"type\":\"BoxAnnotation\"},{\"attributes\":{},\"id\":\"8196120b-ac1d-433e-b1b8-f929c9e86656\",\"type\":\"BasicTicker\"},{\"attributes\":{\"plot\":{\"id\":\"f6133570-a41e-40e3-a7ad-3a48cf9e322b\",\"subtype\":\"Figure\",\"type\":\"Plot\"}},\"id\":\"725e2844-5379-4920-90fd-aa67867a1f6c\",\"type\":\"ResetTool\"},{\"attributes\":{},\"id\":\"e3844a9b-2083-4bf4-9e8b-86fb77190d6b\",\"type\":\"BasicTickFormatter\"},{\"attributes\":{\"plot\":{\"id\":\"f6133570-a41e-40e3-a7ad-3a48cf9e322b\",\"subtype\":\"Figure\",\"type\":\"Plot\"},\"ticker\":{\"id\":\"d875ed7b-a3dc-4302-81f0-4a4ef579f68e\",\"type\":\"BasicTicker\"}},\"id\":\"4f147c88-2427-4ff9-ac4a-d13120ae90d0\",\"type\":\"Grid\"},{\"attributes\":{\"callback\":null,\"end\":365},\"id\":\"380de5f1-e255-4b1e-ab0c-e1c0eeef6f1b\",\"type\":\"Range1d\"},{\"attributes\":{\"line_alpha\":{\"value\":0.1},\"line_color\":{\"value\":\"#1f77b4\"},\"x\":{\"field\":\"x\"},\"y\":{\"field\":\"y\"}},\"id\":\"43d23cc2-3159-4635-99e2-12ff1a33c4c9\",\"type\":\"Line\"},{\"attributes\":{\"plot\":null,\"text\":\"Customer Demand - weekly trend with a peak on Independence Day and increased demand on Christmas Holidays\"},\"id\":\"39d43c00-555a-4a55-a796-c494915704b1\",\"type\":\"Title\"},{\"attributes\":{\"callback\":null,\"column_names\":[\"x\",\"y\"],\"data\":{\"x\":[0,1,2,3,4,5,6,7,8,9,10,11,12,13,14,15,16,17,18,19,20,21,22,23,24,25,26,27,28,29,30,31,32,33,34,35,36,37,38,39,40,41,42,43,44,45,46,47,48,49,50,51,52,53,54,55,56,57,58,59,60,61,62,63,64,65,66,67,68,69,70,71,72,73,74,75,76,77,78,79,80,81,82,83,84,85,86,87,88,89,90,91,92,93,94,95,96,97,98,99,100,101,102,103,104,105,106,107,108,109,110,111,112,113,114,115,116,117,118,119,120,121,122,123,124,125,126,127,128,129,130,131,132,133,134,135,136,137,138,139,140,141,142,143,144,145,146,147,148,149,150,151,152,153,154,155,156,157,158,159,160,161,162,163,164,165,166,167,168,169,170,171,172,173,174,175,176,177,178,179,180,181,182,183,184,185,186,187,188,189,190,191,192,193,194,195,196,197,198,199,200,201,202,203,204,205,206,207,208,209,210,211,212,213,214,215,216,217,218,219,220,221,222,223,224,225,226,227,228,229,230,231,232,233,234,235,236,237,238,239,240,241,242,243,244,245,246,247,248,249,250,251,252,253,254,255,256,257,258,259,260,261,262,263,264,265,266,267,268,269,270,271,272,273,274,275,276,277,278,279,280,281,282,283,284,285,286,287,288,289,290,291,292,293,294,295,296,297,298,299,300,301,302,303,304,305,306,307,308,309,310,311,312,313,314,315,316,317,318,319,320,321,322,323,324,325,326,327,328,329,330,331,332,333,334,335,336,337,338,339,340,341,342,343,344,345,346,347,348,349,350,351,352,353,354,355,356,357,358,359,360,361,362,363,364],\"y\":[2.0,1.15,1.11,1.26,1.48,1.63,1.19,1.0,1.15,1.11,1.26,1.48,1.63,1.19,1.0,1.15,1.11,1.26,1.48,1.63,1.19,1.0,1.15,1.11,1.26,1.48,1.63,1.19,1.0,1.15,1.11,1.26,1.48,1.63,1.19,1.0,1.15,1.11,1.26,1.48,1.63,1.19,1.0,1.15,1.11,1.26,1.48,1.63,1.19,1.0,1.15,1.11,1.26,1.48,1.63,1.19,1.0,1.15,1.11,1.26,1.48,1.63,1.19,1.0,1.15,1.11,1.26,1.48,1.63,1.19,1.0,1.15,1.11,1.26,1.48,1.63,1.19,1.0,1.15,1.11,1.26,1.48,1.63,1.19,1.0,1.15,1.11,1.26,1.48,1.63,1.19,1.0,1.15,1.11,1.26,1.48,1.63,1.19,1.0,1.15,1.11,1.26,1.48,1.63,1.19,1.0,1.15,1.11,1.26,1.48,1.63,1.19,1.0,1.15,1.11,1.26,1.48,1.63,1.19,1.0,1.0,1.15,1.11,1.26,1.48,1.63,1.19,1.0,1.15,1.11,1.26,1.48,1.63,1.19,1.0,1.15,1.11,1.26,1.48,1.63,1.19,1.0,1.15,1.11,1.26,1.48,1.63,1.19,1.0,1.15,1.11,1.26,1.48,1.63,1.19,1.0,1.15,1.11,1.26,1.48,1.63,1.19,1.0,1.15,1.11,1.26,1.48,1.63,1.19,1.0,1.15,1.11,1.26,1.48,1.63,1.19,1.0,1.15,1.11,1.26,1.48,1.63,1.19,1.0,1.15,1.11,1.26,1.48,1.63,1.19,1.0,1.15,1.11,1.26,1.48,1.63,1.19,1.0,1.15,1.11,1.26,1.48,1.63,1.19,1.0,1.15,1.11,1.26,1.48,1.63,1.19,1.0,1.0,1.15,1.11,1.26,1.48,1.63,1.19,1.0,1.15,1.11,1.26,1.48,1.63,1.19,1.0,1.15,1.11,1.26,1.48,1.63,1.19,1.0,1.15,1.11,1.26,1.48,1.63,1.19,1.0,1.15,1.11,1.26,1.48,1.63,1.19,1.0,1.15,1.11,1.26,1.48,1.63,1.19,1.0,1.15,1.11,3.78,4.44,1.63,1.19,1.0,1.15,1.11,1.26,1.48,1.63,1.19,1.0,1.15,1.11,1.26,1.48,1.63,1.19,1.0,1.15,1.11,1.26,1.48,1.63,1.19,1.0,1.15,1.11,1.26,1.48,1.63,1.19,1.0,1.15,1.11,1.26,1.48,1.63,1.19,1.0,1.15,1.11,1.26,1.48,1.63,1.19,1.0,1.0,1.15,1.11,1.26,1.48,1.63,1.19,1.0,1.15,1.11,1.26,1.48,1.63,1.19,1.0,1.15,1.11,1.26,1.48,1.63,1.19,1.0,1.15,1.11,1.26,1.48,1.63,1.19,1.0,1.15,1.11,1.26,1.48,1.63,1.19,1.0,1.15,1.11,1.26,1.48,1.63,1.19,1.0,1.15,1.11,1.26,1.48,3.26,2.38,2.0,2.3,2.22,2.52,2.96,3.26,2.38,2.0,2.3,2.22,2.52,2.96]}},\"id\":\"7301960c-e5d2-4cd2-816e-e6644a054ae5\",\"type\":\"ColumnDataSource\"},{\"attributes\":{\"active_drag\":\"auto\",\"active_scroll\":\"auto\",\"active_tap\":\"auto\",\"tools\":[{\"id\":\"71226359-f87a-4e85-a0f5-4a0a43b1c5b7\",\"type\":\"PanTool\"},{\"id\":\"5f190a13-9ea8-4061-8c5d-01e84de32ed0\",\"type\":\"WheelZoomTool\"},{\"id\":\"5de905c0-0b35-400c-b235-6c8c78120944\",\"type\":\"BoxZoomTool\"},{\"id\":\"c9405438-9ecd-4328-ad28-2571406b6d8c\",\"type\":\"SaveTool\"},{\"id\":\"725e2844-5379-4920-90fd-aa67867a1f6c\",\"type\":\"ResetTool\"},{\"id\":\"1080403d-6740-4330-af8c-27c8b9d00839\",\"type\":\"HelpTool\"}]},\"id\":\"9563ca63-50d1-42d5-80de-403521af1ca7\",\"type\":\"Toolbar\"},{\"attributes\":{},\"id\":\"2abb22d1-5d28-4d37-911e-05b4024c79ed\",\"type\":\"ToolEvents\"},{\"attributes\":{\"plot\":{\"id\":\"f6133570-a41e-40e3-a7ad-3a48cf9e322b\",\"subtype\":\"Figure\",\"type\":\"Plot\"}},\"id\":\"71226359-f87a-4e85-a0f5-4a0a43b1c5b7\",\"type\":\"PanTool\"}],\"root_ids\":[\"f6133570-a41e-40e3-a7ad-3a48cf9e322b\"]},\"title\":\"Bokeh Application\",\"version\":\"0.12.2\"}};\n",
       "            var render_items = [{\"docid\":\"b972fa2b-c775-43ec-a7cc-be9188d1b29d\",\"elementid\":\"dbc02030-29b3-414e-9c01-81fd381d213c\",\"modelid\":\"f6133570-a41e-40e3-a7ad-3a48cf9e322b\",\"notebook_comms_target\":\"46725fa5-d7be-480c-a67b-feec2e3fbe47\"}];\n",
       "            \n",
       "            Bokeh.embed.embed_items(docs_json, render_items);\n",
       "        });\n",
       "      },\n",
       "      function(Bokeh) {\n",
       "      }\n",
       "    ];\n",
       "  \n",
       "    function run_inline_js() {\n",
       "      \n",
       "      if ((window.Bokeh !== undefined) || (force === \"1\")) {\n",
       "        for (var i = 0; i < inline_js.length; i++) {\n",
       "          inline_js[i](window.Bokeh);\n",
       "        }if (force === \"1\") {\n",
       "          display_loaded();\n",
       "        }} else if (Date.now() < window._bokeh_timeout) {\n",
       "        setTimeout(run_inline_js, 100);\n",
       "      } else if (!window._bokeh_failed_load) {\n",
       "        console.log(\"Bokeh: BokehJS failed to load within specified timeout.\");\n",
       "        window._bokeh_failed_load = true;\n",
       "      } else if (!force) {\n",
       "        var cell = $(\"#dbc02030-29b3-414e-9c01-81fd381d213c\").parents('.cell').data().cell;\n",
       "        cell.output_area.append_execute_result(NB_LOAD_WARNING)\n",
       "      }\n",
       "  \n",
       "    }\n",
       "  \n",
       "    if (window._bokeh_is_loading === 0) {\n",
       "      console.log(\"Bokeh: BokehJS loaded, going straight to plotting\");\n",
       "      run_inline_js();\n",
       "    } else {\n",
       "      load_libs(js_urls, function() {\n",
       "        console.log(\"Bokeh: BokehJS plotting callback run at\", now());\n",
       "        run_inline_js();\n",
       "      });\n",
       "    }\n",
       "  }(this));\n",
       "</script>"
      ]
     },
     "metadata": {},
     "output_type": "display_data"
    },
    {
     "data": {
      "text/html": [
       "<p><code>&lt;Bokeh Notebook handle for <strong>In[6]</strong>&gt;</code></p>"
      ],
      "text/plain": [
       "<bokeh.io._CommsHandle at 0x176c880908>"
      ]
     },
     "execution_count": 6,
     "metadata": {},
     "output_type": "execute_result"
    }
   ],
   "source": [
    "show(p_cd, notebook_handle=True)"
   ]
  },
  {
   "cell_type": "code",
   "execution_count": 7,
   "metadata": {
    "collapsed": false
   },
   "outputs": [],
   "source": [
    "p_fs = figure(title=\"Fields Supply - it's only produced in summertime, with a small lift near the end of June and a big lift during August\", plot_height=450, plot_width=900, x_range = (0,365), y_range=(0,73))\n",
    "r_fs = p_fs.line(range(365), fields_agent.current_policy, color=\"seagreen\")\n",
    "p_fs.xaxis.axis_label = \"Day\"\n",
    "p_fs.yaxis.axis_label = \"Production\""
   ]
  },
  {
   "cell_type": "code",
   "execution_count": 8,
   "metadata": {
    "collapsed": false
   },
   "outputs": [
    {
     "data": {
      "text/html": [
       "\n",
       "\n",
       "    <div class=\"bk-root\">\n",
       "        <div class=\"plotdiv\" id=\"26f7c2a4-6a62-4ea7-9dd2-fb3bf32cf4f8\"></div>\n",
       "    </div>\n",
       "<script type=\"text/javascript\">\n",
       "  \n",
       "  (function(global) {\n",
       "    function now() {\n",
       "      return new Date();\n",
       "    }\n",
       "  \n",
       "    var force = \"\";\n",
       "  \n",
       "    if (typeof (window._bokeh_onload_callbacks) === \"undefined\" || force !== \"\") {\n",
       "      window._bokeh_onload_callbacks = [];\n",
       "      window._bokeh_is_loading = undefined;\n",
       "    }\n",
       "  \n",
       "  \n",
       "    \n",
       "    if (typeof (window._bokeh_timeout) === \"undefined\" || force !== \"\") {\n",
       "      window._bokeh_timeout = Date.now() + 0;\n",
       "      window._bokeh_failed_load = false;\n",
       "    }\n",
       "  \n",
       "    var NB_LOAD_WARNING = {'data': {'text/html':\n",
       "       \"<div style='background-color: #fdd'>\\n\"+\n",
       "       \"<p>\\n\"+\n",
       "       \"BokehJS does not appear to have successfully loaded. If loading BokehJS from CDN, this \\n\"+\n",
       "       \"may be due to a slow or bad network connection. Possible fixes:\\n\"+\n",
       "       \"</p>\\n\"+\n",
       "       \"<ul>\\n\"+\n",
       "       \"<li>re-rerun `output_notebook()` to attempt to load from CDN again, or</li>\\n\"+\n",
       "       \"<li>use INLINE resources instead, as so:</li>\\n\"+\n",
       "       \"</ul>\\n\"+\n",
       "       \"<code>\\n\"+\n",
       "       \"from bokeh.resources import INLINE\\n\"+\n",
       "       \"output_notebook(resources=INLINE)\\n\"+\n",
       "       \"</code>\\n\"+\n",
       "       \"</div>\"}};\n",
       "  \n",
       "    function display_loaded() {\n",
       "      if (window.Bokeh !== undefined) {\n",
       "        Bokeh.$(\"#26f7c2a4-6a62-4ea7-9dd2-fb3bf32cf4f8\").text(\"BokehJS successfully loaded.\");\n",
       "      } else if (Date.now() < window._bokeh_timeout) {\n",
       "        setTimeout(display_loaded, 100)\n",
       "      }\n",
       "    }if ((window.Jupyter !== undefined) && Jupyter.notebook.kernel) {\n",
       "      comm_manager = Jupyter.notebook.kernel.comm_manager\n",
       "      comm_manager.register_target(\"4ebac2d5-c6e8-4bc0-b84b-0332f2da27bb\", function () {});\n",
       "    }\n",
       "  \n",
       "    function run_callbacks() {\n",
       "      window._bokeh_onload_callbacks.forEach(function(callback) { callback() });\n",
       "      delete window._bokeh_onload_callbacks\n",
       "      console.info(\"Bokeh: all callbacks have finished\");\n",
       "    }\n",
       "  \n",
       "    function load_libs(js_urls, callback) {\n",
       "      window._bokeh_onload_callbacks.push(callback);\n",
       "      if (window._bokeh_is_loading > 0) {\n",
       "        console.log(\"Bokeh: BokehJS is being loaded, scheduling callback at\", now());\n",
       "        return null;\n",
       "      }\n",
       "      if (js_urls == null || js_urls.length === 0) {\n",
       "        run_callbacks();\n",
       "        return null;\n",
       "      }\n",
       "      console.log(\"Bokeh: BokehJS not loaded, scheduling load and callback at\", now());\n",
       "      window._bokeh_is_loading = js_urls.length;\n",
       "      for (var i = 0; i < js_urls.length; i++) {\n",
       "        var url = js_urls[i];\n",
       "        var s = document.createElement('script');\n",
       "        s.src = url;\n",
       "        s.async = false;\n",
       "        s.onreadystatechange = s.onload = function() {\n",
       "          window._bokeh_is_loading--;\n",
       "          if (window._bokeh_is_loading === 0) {\n",
       "            console.log(\"Bokeh: all BokehJS libraries loaded\");\n",
       "            run_callbacks()\n",
       "          }\n",
       "        };\n",
       "        s.onerror = function() {\n",
       "          console.warn(\"failed to load library \" + url);\n",
       "        };\n",
       "        console.log(\"Bokeh: injecting script tag for BokehJS library: \", url);\n",
       "        document.getElementsByTagName(\"head\")[0].appendChild(s);\n",
       "      }\n",
       "    };var element = document.getElementById(\"26f7c2a4-6a62-4ea7-9dd2-fb3bf32cf4f8\");\n",
       "    if (element == null) {\n",
       "      console.log(\"Bokeh: ERROR: autoload.js configured with elementid '26f7c2a4-6a62-4ea7-9dd2-fb3bf32cf4f8' but no matching script tag was found. \")\n",
       "      return false;\n",
       "    }\n",
       "  \n",
       "    var js_urls = [];\n",
       "  \n",
       "    var inline_js = [\n",
       "      function(Bokeh) {\n",
       "        Bokeh.$(function() {\n",
       "            var docs_json = {\"01d9d405-c5a4-4f15-886e-ace7ecb38826\":{\"roots\":{\"references\":[{\"attributes\":{\"callback\":null,\"column_names\":[\"x\",\"y\"],\"data\":{\"x\":[0,1,2,3,4,5,6,7,8,9,10,11,12,13,14,15,16,17,18,19,20,21,22,23,24,25,26,27,28,29,30,31,32,33,34,35,36,37,38,39,40,41,42,43,44,45,46,47,48,49,50,51,52,53,54,55,56,57,58,59,60,61,62,63,64,65,66,67,68,69,70,71,72,73,74,75,76,77,78,79,80,81,82,83,84,85,86,87,88,89,90,91,92,93,94,95,96,97,98,99,100,101,102,103,104,105,106,107,108,109,110,111,112,113,114,115,116,117,118,119,120,121,122,123,124,125,126,127,128,129,130,131,132,133,134,135,136,137,138,139,140,141,142,143,144,145,146,147,148,149,150,151,152,153,154,155,156,157,158,159,160,161,162,163,164,165,166,167,168,169,170,171,172,173,174,175,176,177,178,179,180,181,182,183,184,185,186,187,188,189,190,191,192,193,194,195,196,197,198,199,200,201,202,203,204,205,206,207,208,209,210,211,212,213,214,215,216,217,218,219,220,221,222,223,224,225,226,227,228,229,230,231,232,233,234,235,236,237,238,239,240,241,242,243,244,245,246,247,248,249,250,251,252,253,254,255,256,257,258,259,260,261,262,263,264,265,266,267,268,269,270,271,272,273,274,275,276,277,278,279,280,281,282,283,284,285,286,287,288,289,290,291,292,293,294,295,296,297,298,299,300,301,302,303,304,305,306,307,308,309,310,311,312,313,314,315,316,317,318,319,320,321,322,323,324,325,326,327,328,329,330,331,332,333,334,335,336,337,338,339,340,341,342,343,344,345,346,347,348,349,350,351,352,353,354,355,356,357,358,359,360,361,362,363,364],\"y\":[0.0,0.0,0.0,0.0,0.0,0.0,0.0,0.0,0.0,0.0,0.0,0.0,0.0,0.0,0.0,0.0,0.0,0.0,0.0,0.0,0.0,0.0,0.0,0.0,0.0,0.0,0.0,0.0,0.0,0.0,0.0,0.0,0.0,0.0,0.0,0.0,0.0,0.0,0.0,0.0,0.0,0.0,0.0,0.0,0.0,0.0,0.0,0.0,0.0,0.0,0.0,0.0,0.0,0.0,0.0,0.0,0.0,0.0,0.0,0.0,0.0,0.0,0.0,0.0,0.0,0.0,0.0,0.0,0.0,0.0,0.0,0.0,0.0,0.0,0.0,0.0,0.0,0.0,0.0,0.0,0.0,0.0,0.0,0.0,0.0,0.0,0.0,0.0,0.0,0.0,0.0,0.0,0.0,0.0,0.0,0.0,0.0,0.0,0.0,0.0,0.0,0.0,0.0,0.0,0.0,0.0,0.0,0.0,0.0,0.0,0.0,0.0,0.0,0.0,0.0,0.0,0.0,0.0,0.0,0.0,0.0,0.0,0.0,0.0,0.0,0.0,0.0,0.0,0.0,0.535714285714286,0.535714285714286,0.535714285714286,0.535714285714286,0.535714285714286,0.9342650103519671,0.9342650103519671,0.9342650103519671,0.9342650103519671,0.9342650103519671,0.9342650103519671,0.9342650103519671,0.9342650103519671,0.9342650103519671,0.9342650103519671,1.1631806730025702,1.1631806730025702,1.1631806730025702,1.94499885482075,1.94499885482075,2.4807131405350398,2.4807131405350398,2.87926386517272,2.87926386517272,2.87926386517272,2.87926386517272,3.44448125647707,4.22629943829525,4.22629943829525,4.22629943829525,4.22629943829525,4.45521510094585,4.45521510094585,6.2204324922502,6.2204324922502,6.2204324922502,6.2204324922502,7.4204324922502005,7.4204324922502005,7.4204324922502005,7.4204324922502005,8.64021271203042,8.10449842631613,8.10449842631613,8.10449842631613,8.10449842631613,8.681421503239209,7.899603321421031,7.899603321421031,7.899603321421031,6.13438593011668,6.13438593011668,5.905470267466081,4.80222351421932,4.80222351421932,4.2370061229149805,4.2370061229149805,3.9155775514864,3.9155775514864,3.9155775514864,2.7155775514864,3.02326985917871,2.48755557346443,2.48755557346443,2.48755557346443,2.48755557346443,2.91009078473203,2.51154006009435,2.51154006009435,2.51154006009435,2.51154006009435,3.6545608422903904,3.3853300730596203,3.3853300730596203,3.3853300730596203,4.205842893572441,5.957145228127719,6.8308096736751995,16.5306653735309,35.7950241461509,36.5888385791406,36.5888385791406,36.5888385791406,39.779183719825895,39.779183719825895,49.333536774178896,63.114024579056995,64.74098901247301,64.74098901247301,64.89723901247301,64.89723901247301,65.0737096007083,65.0737096007083,69.98065749152721,69.98065749152721,69.98065749152721,69.98065749152721,70.0356574915272,68.40811994271871,68.40811994271871,68.5845905309539,68.5845905309539,68.0316804780439,67.2252288651407,67.2252288651407,67.2252288651407,67.2252288651407,67.2802288651407,67.2802288651407,66.4597160446278,65.9542596954215,65.9542596954215,65.9542596954215,64.6254925721338,64.4217888684301,63.691561349470206,54.34091199882089,39.6615477894484,39.6615477894484,38.3327806661608,37.5389662331711,37.5389662331711,31.747402957736803,31.747402957736803,22.396753607087497,22.396753607087497,22.240503607087497,22.240503607087497,21.4466891740978,21.4466891740978,7.6662013692197295,6.845688548706911,5.77034155597723,5.77034155597723,5.77034155597723,5.77034155597723,5.77034155597723,5.77034155597723,5.77034155597723,5.71534155597723,5.71534155597723,5.71534155597723,5.71534155597723,0.23147058823529396,0.055,0.0,0.0,0.0,0.0,0.0,0.0,0.0,0.0,0.0,0.0,0.0,0.0,0.0,0.0,0.0,0.0,0.0,0.0,0.0,0.0,0.0,0.0,0.0,0.0,0.0,0.0,0.0,0.0,0.0,0.0,0.0,0.0,0.0,0.0,0.0,0.0,0.0,0.0,0.0,0.0,0.0,0.0,0.0,0.0,0.0,0.0,0.0,0.0,0.0,0.0,0.0,0.0,0.0,0.0,0.0,0.0,0.0,0.0,0.0,0.0,0.0,0.0,0.0,0.0,0.0,0.0,0.0,0.0,0.0,0.0,0.0,0.0,0.0,0.0,0.0,0.0,0.0,0.0,0.0,0.0,0.0,0.0,0.0,0.0,0.0,0.0,0.0,0.0,0.0,0.0,0.0]}},\"id\":\"d69d185f-10b7-4741-9816-056fbd5c38a4\",\"type\":\"ColumnDataSource\"},{\"attributes\":{\"plot\":{\"id\":\"6ac4800a-5788-40dc-8b27-69e172cff562\",\"subtype\":\"Figure\",\"type\":\"Plot\"},\"ticker\":{\"id\":\"fc36ea77-70bc-4488-9142-1ed9f2326eba\",\"type\":\"BasicTicker\"}},\"id\":\"799d3ee5-0fa6-41b9-ac84-1721e7b10c3a\",\"type\":\"Grid\"},{\"attributes\":{\"data_source\":{\"id\":\"d69d185f-10b7-4741-9816-056fbd5c38a4\",\"type\":\"ColumnDataSource\"},\"glyph\":{\"id\":\"949bb820-17b8-4a36-a6c6-b3a585c71215\",\"type\":\"Line\"},\"hover_glyph\":null,\"nonselection_glyph\":{\"id\":\"b82843c3-0713-41ad-8e99-9b93631efba9\",\"type\":\"Line\"},\"selection_glyph\":null},\"id\":\"a24d8077-476b-4398-a221-8ad9682fe14e\",\"type\":\"GlyphRenderer\"},{\"attributes\":{\"axis_label\":\"Day\",\"formatter\":{\"id\":\"8d70a6b8-ec2d-4fe3-bf08-b22219c3a1dc\",\"type\":\"BasicTickFormatter\"},\"plot\":{\"id\":\"6ac4800a-5788-40dc-8b27-69e172cff562\",\"subtype\":\"Figure\",\"type\":\"Plot\"},\"ticker\":{\"id\":\"fc36ea77-70bc-4488-9142-1ed9f2326eba\",\"type\":\"BasicTicker\"}},\"id\":\"b6fbc171-2ee5-44c3-acf7-d6e7a298445a\",\"type\":\"LinearAxis\"},{\"attributes\":{\"plot\":{\"id\":\"6ac4800a-5788-40dc-8b27-69e172cff562\",\"subtype\":\"Figure\",\"type\":\"Plot\"}},\"id\":\"080a6d38-c08d-4d4d-bff7-b1f372440737\",\"type\":\"WheelZoomTool\"},{\"attributes\":{\"line_color\":{\"value\":\"seagreen\"},\"x\":{\"field\":\"x\"},\"y\":{\"field\":\"y\"}},\"id\":\"949bb820-17b8-4a36-a6c6-b3a585c71215\",\"type\":\"Line\"},{\"attributes\":{\"bottom_units\":\"screen\",\"fill_alpha\":{\"value\":0.5},\"fill_color\":{\"value\":\"lightgrey\"},\"left_units\":\"screen\",\"level\":\"overlay\",\"line_alpha\":{\"value\":1.0},\"line_color\":{\"value\":\"black\"},\"line_dash\":[4,4],\"line_width\":{\"value\":2},\"plot\":null,\"render_mode\":\"css\",\"right_units\":\"screen\",\"top_units\":\"screen\"},\"id\":\"d865d023-df68-484d-bdaa-4d6c5159fa18\",\"type\":\"BoxAnnotation\"},{\"attributes\":{\"overlay\":{\"id\":\"d865d023-df68-484d-bdaa-4d6c5159fa18\",\"type\":\"BoxAnnotation\"},\"plot\":{\"id\":\"6ac4800a-5788-40dc-8b27-69e172cff562\",\"subtype\":\"Figure\",\"type\":\"Plot\"}},\"id\":\"dda4f936-1f2d-4c5e-9f4e-80adeac5772b\",\"type\":\"BoxZoomTool\"},{\"attributes\":{\"axis_label\":\"Production\",\"formatter\":{\"id\":\"09a4ce42-7aa7-44c9-ba84-3c1b7cfd0e1b\",\"type\":\"BasicTickFormatter\"},\"plot\":{\"id\":\"6ac4800a-5788-40dc-8b27-69e172cff562\",\"subtype\":\"Figure\",\"type\":\"Plot\"},\"ticker\":{\"id\":\"deee449c-99e9-4cd9-a63f-6a8df9260f43\",\"type\":\"BasicTicker\"}},\"id\":\"2a852ef7-f718-4826-bfd8-da2fd5dfc258\",\"type\":\"LinearAxis\"},{\"attributes\":{\"plot\":{\"id\":\"6ac4800a-5788-40dc-8b27-69e172cff562\",\"subtype\":\"Figure\",\"type\":\"Plot\"}},\"id\":\"c792df66-244b-4e84-9bc7-2b66ca23441c\",\"type\":\"SaveTool\"},{\"attributes\":{\"below\":[{\"id\":\"b6fbc171-2ee5-44c3-acf7-d6e7a298445a\",\"type\":\"LinearAxis\"}],\"left\":[{\"id\":\"2a852ef7-f718-4826-bfd8-da2fd5dfc258\",\"type\":\"LinearAxis\"}],\"plot_height\":450,\"plot_width\":900,\"renderers\":[{\"id\":\"b6fbc171-2ee5-44c3-acf7-d6e7a298445a\",\"type\":\"LinearAxis\"},{\"id\":\"799d3ee5-0fa6-41b9-ac84-1721e7b10c3a\",\"type\":\"Grid\"},{\"id\":\"2a852ef7-f718-4826-bfd8-da2fd5dfc258\",\"type\":\"LinearAxis\"},{\"id\":\"61606033-aa78-4a76-a0e7-771804f8ec69\",\"type\":\"Grid\"},{\"id\":\"d865d023-df68-484d-bdaa-4d6c5159fa18\",\"type\":\"BoxAnnotation\"},{\"id\":\"a24d8077-476b-4398-a221-8ad9682fe14e\",\"type\":\"GlyphRenderer\"}],\"title\":{\"id\":\"65289d74-ffd1-494b-94f3-e80d04778425\",\"type\":\"Title\"},\"tool_events\":{\"id\":\"0c0e48d2-d512-487e-a384-d3eba432c8fa\",\"type\":\"ToolEvents\"},\"toolbar\":{\"id\":\"7c974777-7383-4f29-a065-28d6c99f160f\",\"type\":\"Toolbar\"},\"x_range\":{\"id\":\"72af0252-d09d-4758-9e42-dfda3470a1be\",\"type\":\"Range1d\"},\"y_range\":{\"id\":\"1e122f09-41e5-4ed7-a963-c71dc019cab7\",\"type\":\"Range1d\"}},\"id\":\"6ac4800a-5788-40dc-8b27-69e172cff562\",\"subtype\":\"Figure\",\"type\":\"Plot\"},{\"attributes\":{\"dimension\":1,\"plot\":{\"id\":\"6ac4800a-5788-40dc-8b27-69e172cff562\",\"subtype\":\"Figure\",\"type\":\"Plot\"},\"ticker\":{\"id\":\"deee449c-99e9-4cd9-a63f-6a8df9260f43\",\"type\":\"BasicTicker\"}},\"id\":\"61606033-aa78-4a76-a0e7-771804f8ec69\",\"type\":\"Grid\"},{\"attributes\":{},\"id\":\"0c0e48d2-d512-487e-a384-d3eba432c8fa\",\"type\":\"ToolEvents\"},{\"attributes\":{},\"id\":\"deee449c-99e9-4cd9-a63f-6a8df9260f43\",\"type\":\"BasicTicker\"},{\"attributes\":{\"line_alpha\":{\"value\":0.1},\"line_color\":{\"value\":\"#1f77b4\"},\"x\":{\"field\":\"x\"},\"y\":{\"field\":\"y\"}},\"id\":\"b82843c3-0713-41ad-8e99-9b93631efba9\",\"type\":\"Line\"},{\"attributes\":{},\"id\":\"09a4ce42-7aa7-44c9-ba84-3c1b7cfd0e1b\",\"type\":\"BasicTickFormatter\"},{\"attributes\":{\"plot\":{\"id\":\"6ac4800a-5788-40dc-8b27-69e172cff562\",\"subtype\":\"Figure\",\"type\":\"Plot\"}},\"id\":\"56aceee4-158c-43e1-b748-3bf8b1cef5cc\",\"type\":\"HelpTool\"},{\"attributes\":{\"callback\":null,\"end\":365},\"id\":\"72af0252-d09d-4758-9e42-dfda3470a1be\",\"type\":\"Range1d\"},{\"attributes\":{},\"id\":\"fc36ea77-70bc-4488-9142-1ed9f2326eba\",\"type\":\"BasicTicker\"},{\"attributes\":{\"active_drag\":\"auto\",\"active_scroll\":\"auto\",\"active_tap\":\"auto\",\"tools\":[{\"id\":\"aa7858f9-eaf7-48d9-8057-db391098307f\",\"type\":\"PanTool\"},{\"id\":\"080a6d38-c08d-4d4d-bff7-b1f372440737\",\"type\":\"WheelZoomTool\"},{\"id\":\"dda4f936-1f2d-4c5e-9f4e-80adeac5772b\",\"type\":\"BoxZoomTool\"},{\"id\":\"c792df66-244b-4e84-9bc7-2b66ca23441c\",\"type\":\"SaveTool\"},{\"id\":\"9687851b-e2c8-4d5e-90d9-86002f8b3d4a\",\"type\":\"ResetTool\"},{\"id\":\"56aceee4-158c-43e1-b748-3bf8b1cef5cc\",\"type\":\"HelpTool\"}]},\"id\":\"7c974777-7383-4f29-a065-28d6c99f160f\",\"type\":\"Toolbar\"},{\"attributes\":{\"plot\":{\"id\":\"6ac4800a-5788-40dc-8b27-69e172cff562\",\"subtype\":\"Figure\",\"type\":\"Plot\"}},\"id\":\"9687851b-e2c8-4d5e-90d9-86002f8b3d4a\",\"type\":\"ResetTool\"},{\"attributes\":{},\"id\":\"8d70a6b8-ec2d-4fe3-bf08-b22219c3a1dc\",\"type\":\"BasicTickFormatter\"},{\"attributes\":{\"callback\":null,\"end\":73},\"id\":\"1e122f09-41e5-4ed7-a963-c71dc019cab7\",\"type\":\"Range1d\"},{\"attributes\":{\"plot\":{\"id\":\"6ac4800a-5788-40dc-8b27-69e172cff562\",\"subtype\":\"Figure\",\"type\":\"Plot\"}},\"id\":\"aa7858f9-eaf7-48d9-8057-db391098307f\",\"type\":\"PanTool\"},{\"attributes\":{\"plot\":null,\"text\":\"Fields Supply - it's only produced in summertime, with a small lift near the end of June and a big lift during August\"},\"id\":\"65289d74-ffd1-494b-94f3-e80d04778425\",\"type\":\"Title\"}],\"root_ids\":[\"6ac4800a-5788-40dc-8b27-69e172cff562\"]},\"title\":\"Bokeh Application\",\"version\":\"0.12.2\"}};\n",
       "            var render_items = [{\"docid\":\"01d9d405-c5a4-4f15-886e-ace7ecb38826\",\"elementid\":\"26f7c2a4-6a62-4ea7-9dd2-fb3bf32cf4f8\",\"modelid\":\"6ac4800a-5788-40dc-8b27-69e172cff562\",\"notebook_comms_target\":\"4ebac2d5-c6e8-4bc0-b84b-0332f2da27bb\"}];\n",
       "            \n",
       "            Bokeh.embed.embed_items(docs_json, render_items);\n",
       "        });\n",
       "      },\n",
       "      function(Bokeh) {\n",
       "      }\n",
       "    ];\n",
       "  \n",
       "    function run_inline_js() {\n",
       "      \n",
       "      if ((window.Bokeh !== undefined) || (force === \"1\")) {\n",
       "        for (var i = 0; i < inline_js.length; i++) {\n",
       "          inline_js[i](window.Bokeh);\n",
       "        }if (force === \"1\") {\n",
       "          display_loaded();\n",
       "        }} else if (Date.now() < window._bokeh_timeout) {\n",
       "        setTimeout(run_inline_js, 100);\n",
       "      } else if (!window._bokeh_failed_load) {\n",
       "        console.log(\"Bokeh: BokehJS failed to load within specified timeout.\");\n",
       "        window._bokeh_failed_load = true;\n",
       "      } else if (!force) {\n",
       "        var cell = $(\"#26f7c2a4-6a62-4ea7-9dd2-fb3bf32cf4f8\").parents('.cell').data().cell;\n",
       "        cell.output_area.append_execute_result(NB_LOAD_WARNING)\n",
       "      }\n",
       "  \n",
       "    }\n",
       "  \n",
       "    if (window._bokeh_is_loading === 0) {\n",
       "      console.log(\"Bokeh: BokehJS loaded, going straight to plotting\");\n",
       "      run_inline_js();\n",
       "    } else {\n",
       "      load_libs(js_urls, function() {\n",
       "        console.log(\"Bokeh: BokehJS plotting callback run at\", now());\n",
       "        run_inline_js();\n",
       "      });\n",
       "    }\n",
       "  }(this));\n",
       "</script>"
      ]
     },
     "metadata": {},
     "output_type": "display_data"
    },
    {
     "data": {
      "text/html": [
       "<p><code>&lt;Bokeh Notebook handle for <strong>In[8]</strong>&gt;</code></p>"
      ],
      "text/plain": [
       "<bokeh.io._CommsHandle at 0x176c8b2898>"
      ]
     },
     "execution_count": 8,
     "metadata": {},
     "output_type": "execute_result"
    }
   ],
   "source": [
    "show(p_fs, notebook_handle=True)"
   ]
  },
  {
   "cell_type": "markdown",
   "metadata": {},
   "source": [
    "# Policy Iteration\n",
    "\n",
    "Basic idea of policy iteration:\n",
    "\n",
    "    1. Start all agents with the [0]*365 policy, this would be just selling what they have and never restocking or making any decisions. This is the starting benchmark (best policy).\n",
    "    2. For each agent, for every day of the year, repeat `total_epochs` times:\n",
    "        2.1 Create a random (epsilon-greedy based) policy (upstream demand) for the day\n",
    "        3.1 Next morning: make all transactions based on that demand\n",
    "        4.1 Evaluate the payout of that policy. If the payout is higher than the payout of the best policy, it becomes the new best policy; else, nothing changes.\n",
    "    \n",
    "The code will print out 20 cuts in time to show a general idea of how the agents are learning and working towards their maximum payouts ever obtained.\n",
    "\n",
    "Note that it might be possible that they don't actually converge to these maximum payouts - think about this as a game: the Nash equilibria don't have to be Pareto optima. Maybe an agent's maximum payout was obtained with a comibnation of policies that the other three agents will never use again. Also, towards the end of the learning process, they tend to stick to the best policy they found during the exploration phase, so if this policy combined with the best policy of another agent leads them to start losing and losing... I'm just saying it could happen."
   ]
  },
  {
   "cell_type": "code",
   "execution_count": 9,
   "metadata": {
    "collapsed": false,
    "scrolled": true
   },
   "outputs": [
    {
     "name": "stdout",
     "output_type": "stream",
     "text": [
      " \n",
      "Year 0 Agent Retail current payout 198.6214 current best payout 198.6214\n",
      "Year 0 Agent Wholesale current payout -72.8000000000005 current best payout -72.8000000000005\n",
      "Year 0 Agent Regional_Warehouse current payout -72.8000000000005 current best payout -72.8000000000005\n",
      "Year 0 Agent Factory current payout -72.8000000000005 current best payout -72.8000000000005\n",
      " \n",
      "Year 2500 Agent Retail current payout 392.722273478 current best payout 410.328906272\n",
      "Year 2500 Agent Wholesale current payout 353.18013921 current best payout 373.301254349\n",
      "Year 2500 Agent Regional_Warehouse current payout 316.691745645 current best payout 336.711492673\n",
      "Year 2500 Agent Factory current payout 280.19934891 current best payout 300.023361175\n",
      " \n",
      "Year 5000 Agent Retail current payout 392.722273478 current best payout 410.328906272\n",
      "Year 5000 Agent Wholesale current payout 353.18013921 current best payout 373.301254349\n",
      "Year 5000 Agent Regional_Warehouse current payout 316.691745645 current best payout 336.711492673\n",
      "Year 5000 Agent Factory current payout 280.19934891 current best payout 300.023361175\n",
      " \n",
      "Year 7500 Agent Retail current payout 392.722273478 current best payout 410.328906272\n",
      "Year 7500 Agent Wholesale current payout 353.18013921 current best payout 373.301254349\n",
      "Year 7500 Agent Regional_Warehouse current payout 316.691745645 current best payout 336.711492673\n",
      "Year 7500 Agent Factory current payout 280.19934891 current best payout 300.023361175\n",
      " \n",
      "Year 10000 Agent Retail current payout 392.722273478 current best payout 410.328906272\n",
      "Year 10000 Agent Wholesale current payout 353.18013921 current best payout 373.301254349\n",
      "Year 10000 Agent Regional_Warehouse current payout 316.691745645 current best payout 336.711492673\n",
      "Year 10000 Agent Factory current payout 280.19934891 current best payout 300.023361175\n",
      " \n",
      "Year 12500 Agent Retail current payout 392.722273478 current best payout 410.328906272\n",
      "Year 12500 Agent Wholesale current payout 353.18013921 current best payout 373.301254349\n",
      "Year 12500 Agent Regional_Warehouse current payout 316.691745645 current best payout 336.711492673\n",
      "Year 12500 Agent Factory current payout 280.19934891 current best payout 300.023361175\n",
      " \n",
      "Year 15000 Agent Retail current payout 392.722273478 current best payout 410.328906272\n",
      "Year 15000 Agent Wholesale current payout 353.18013921 current best payout 373.301254349\n",
      "Year 15000 Agent Regional_Warehouse current payout 316.691745645 current best payout 336.711492673\n",
      "Year 15000 Agent Factory current payout 280.19934891 current best payout 300.023361175\n",
      " \n",
      "Year 17500 Agent Retail current payout 419.403893863 current best payout 419.403893863\n",
      "Year 17500 Agent Wholesale current payout 333.289641046 current best payout 373.301254349\n",
      "Year 17500 Agent Regional_Warehouse current payout 336.698754011 current best payout 336.711492673\n",
      "Year 17500 Agent Factory current payout 300.023361175 current best payout 300.023361175\n",
      " \n",
      "Year 20000 Agent Retail current payout 419.403893863 current best payout 419.403893863\n",
      "Year 20000 Agent Wholesale current payout 333.289641046 current best payout 373.301254349\n",
      "Year 20000 Agent Regional_Warehouse current payout 336.698754011 current best payout 336.711492673\n",
      "Year 20000 Agent Factory current payout 300.023361175 current best payout 300.023361175\n",
      " \n",
      "Year 22500 Agent Retail current payout 419.403893863 current best payout 419.403893863\n",
      "Year 22500 Agent Wholesale current payout 333.289641046 current best payout 373.301254349\n",
      "Year 22500 Agent Regional_Warehouse current payout 336.698754011 current best payout 336.711492673\n",
      "Year 22500 Agent Factory current payout 300.023361175 current best payout 300.023361175\n",
      " \n",
      "Year 25000 Agent Retail current payout 419.403893863 current best payout 419.403893863\n",
      "Year 25000 Agent Wholesale current payout 333.289641046 current best payout 373.301254349\n",
      "Year 25000 Agent Regional_Warehouse current payout 336.698754011 current best payout 336.711492673\n",
      "Year 25000 Agent Factory current payout 300.023361175 current best payout 300.023361175\n",
      " \n",
      "Year 27500 Agent Retail current payout 419.403893863 current best payout 419.403893863\n",
      "Year 27500 Agent Wholesale current payout 333.289641046 current best payout 373.301254349\n",
      "Year 27500 Agent Regional_Warehouse current payout 336.698754011 current best payout 336.711492673\n",
      "Year 27500 Agent Factory current payout 300.023361175 current best payout 300.023361175\n",
      " \n",
      "Year 30000 Agent Retail current payout 419.403893863 current best payout 419.403893863\n",
      "Year 30000 Agent Wholesale current payout 333.289641046 current best payout 373.301254349\n",
      "Year 30000 Agent Regional_Warehouse current payout 336.698754011 current best payout 336.711492673\n",
      "Year 30000 Agent Factory current payout 300.023361175 current best payout 300.023361175\n",
      " \n",
      "Year 32500 Agent Retail current payout 419.403893863 current best payout 419.403893863\n",
      "Year 32500 Agent Wholesale current payout 333.289641046 current best payout 373.301254349\n",
      "Year 32500 Agent Regional_Warehouse current payout 336.698754011 current best payout 336.711492673\n",
      "Year 32500 Agent Factory current payout 300.023361175 current best payout 300.023361175\n",
      " \n",
      "Year 35000 Agent Retail current payout 419.403893863 current best payout 419.403893863\n",
      "Year 35000 Agent Wholesale current payout 333.289641046 current best payout 373.301254349\n",
      "Year 35000 Agent Regional_Warehouse current payout 336.698754011 current best payout 336.711492673\n",
      "Year 35000 Agent Factory current payout 300.023361175 current best payout 300.023361175\n",
      " \n",
      "Year 37500 Agent Retail current payout 419.403893863 current best payout 419.403893863\n",
      "Year 37500 Agent Wholesale current payout 333.289641046 current best payout 373.301254349\n",
      "Year 37500 Agent Regional_Warehouse current payout 336.698754011 current best payout 336.711492673\n",
      "Year 37500 Agent Factory current payout 300.023361175 current best payout 300.023361175\n",
      " \n",
      "Year 40000 Agent Retail current payout 419.403893863 current best payout 419.403893863\n",
      "Year 40000 Agent Wholesale current payout 333.289641046 current best payout 373.301254349\n",
      "Year 40000 Agent Regional_Warehouse current payout 336.698754011 current best payout 336.711492673\n",
      "Year 40000 Agent Factory current payout 300.023361175 current best payout 300.023361175\n",
      " \n",
      "Year 42500 Agent Retail current payout 419.403893863 current best payout 419.403893863\n",
      "Year 42500 Agent Wholesale current payout 333.289641046 current best payout 373.301254349\n",
      "Year 42500 Agent Regional_Warehouse current payout 336.698754011 current best payout 336.711492673\n",
      "Year 42500 Agent Factory current payout 300.023361175 current best payout 300.023361175\n",
      " \n",
      "Year 45000 Agent Retail current payout 419.403893863 current best payout 419.403893863\n",
      "Year 45000 Agent Wholesale current payout 333.289641046 current best payout 373.301254349\n",
      "Year 45000 Agent Regional_Warehouse current payout 336.698754011 current best payout 336.711492673\n",
      "Year 45000 Agent Factory current payout 300.023361175 current best payout 300.023361175\n",
      " \n",
      "Year 47500 Agent Retail current payout 419.403893863 current best payout 419.403893863\n",
      "Year 47500 Agent Wholesale current payout 333.289641046 current best payout 373.301254349\n",
      "Year 47500 Agent Regional_Warehouse current payout 336.698754011 current best payout 336.711492673\n",
      "Year 47500 Agent Factory current payout 300.023361175 current best payout 300.023361175\n",
      "Total elapsed time for 50000 epochs : 1150.6301209926605\n"
     ]
    }
   ],
   "source": [
    "total_epochs = 50000  # 50000 epochs almost always assures convergence, need to find a better way to constraint\n",
    "agents = [retail_agent, wholesale_agent, regional_warehouse_agent, factory_agent]\n",
    "\n",
    "# TODO create a function that doesn't learn, only\n",
    "# asks on t for what the downstream agent asked for on t-1\n",
    "# this would be the equivalent of ordering upstream what the client ordered the previous day\n",
    "def order_by_the_day(agent,day):\n",
    "    return agent.downstream_agent.current_policy[day-1]\n",
    "\n",
    "random.seed(20170130)\n",
    "\n",
    "def create_demand(day):\n",
    "    random.seed(20170130)\n",
    "    x = np.random.uniform(0, 1)\n",
    "    if x < p_exploration:  # exploRation\n",
    "        return random.uniform(0,5)  # 70 is the maximum harvest of all year, occurs August 15th\n",
    "    else:  # exploTation\n",
    "        return agent.best_policy[day-1]\n",
    "    \n",
    "# POLICY ITERATION  ----------------------------------------------------------------  \n",
    "    \n",
    "start_time = time.time()    \n",
    "    \n",
    "for j in range(total_epochs):  \n",
    "    if j % (total_epochs/20) == 0:\n",
    "        print(\" \")  # These last two lines are used for printing - just make sure every time point appears clearly separated\n",
    "    # starts in 1 ends in the first number so it always explores a bit\n",
    "    p_exploration = max(0.005,(total_epochs - j) / total_epochs)  \n",
    "    day = 0\n",
    "    # Reinitialize inventories and money, etc at the beginning of the year\n",
    "    # The only things that should stay are best policies and payout, this is what the agent learns over time\n",
    "    for agent in agents:\n",
    "        agent.inventory = agent.initial_inventory\n",
    "        agent.total_warehousing_costs = 0\n",
    "        agent.total_money = 0\n",
    "        agent.backlog = 0             \n",
    "    \n",
    "    while day < 365:  # one year\n",
    "        #print('')\n",
    "        #print('Day %s' % (day))\n",
    "        day+=1\n",
    "        # PART 1\n",
    "        # Transactions for previous day happen. These are fixed.\n",
    "        # Orders are fulfilled first time in the morning\n",
    "        # Everyone gets their shippings at the same time\n",
    "        # Factory\n",
    "        fulfilled_to_factory = min(factory_agent.current_policy[day-1],\n",
    "                                   max(fields_agent.current_policy[day-1] - factory_agent.current_policy[day-1],0))\n",
    "        factory_agent.receive_upstream(fulfilled_to_factory)\n",
    "        #print('Factory now has %s inventory and %s money' % (factory_agent.inventory, factory_agent.total_money))\n",
    "        # Regional Warehouse\n",
    "        fulfilled_to_regional_warehouse = factory_agent.give_downstream(regional_warehouse_agent.current_policy[day-1])\n",
    "        regional_warehouse_agent.receive_upstream(fulfilled_to_regional_warehouse)\n",
    "        factory_agent.policy_inventory[day-1] = factory_agent.inventory\n",
    "        #print('Regional WH now has %s inventory and %s money' % (regional_warehouse_agent.inventory, regional_warehouse_agent.total_money))\n",
    "        # Wholesale\n",
    "        fulfilled_to_wholesale = regional_warehouse_agent.give_downstream(wholesale_agent.current_policy[day-1])\n",
    "        wholesale_agent.receive_upstream(fulfilled_to_wholesale)\n",
    "        regional_warehouse_agent.policy_inventory[day-1] = regional_warehouse_agent.inventory\n",
    "        #print('Wholesale now has %s inventory and %s money' % (wholesale_agent.inventory, wholesale_agent.total_money))\n",
    "        # Retail\n",
    "        fulfilled_to_retail = wholesale_agent.give_downstream(retail_agent.current_policy[day-1])\n",
    "        retail_agent.receive_upstream(fulfilled_to_retail)\n",
    "        wholesale_agent.policy_inventory[day-1] = wholesale_agent.inventory\n",
    "        #print('Retail now has %s inventory and %s money' % (retail_agent.inventory, retail_agent.total_money))\n",
    "        # Customer\n",
    "        fulfilled_to_customer = retail_agent.give_downstream(customer_agent.current_policy[day-1])\n",
    "        retail_agent.policy_inventory[day-1] = retail_agent.inventory\n",
    "           \n",
    "        for agent in agents:\n",
    "            # PART 2\n",
    "            # How much money did the agent end up with yesterday's decisions?\n",
    "            agent.current_payout[day-1] = agent.total_money\n",
    "            # Agent decides demand for today, which will (might) be fulfilled tomorrow\n",
    "            # First iteration: see what happens if agent doesn't make any decisions, demanding zero\n",
    "            if j == 0:\n",
    "                agent_demand = 0\n",
    "            # 1% of total iterations: try to figure out downstream agent's average demand, to have a warm start    \n",
    "            elif j < 0.01*total_epochs:\n",
    "                agent.average_downstream_demand = np.mean([agent.average_downstream_demand,\n",
    "                                                           agent.downstream_agent.current_policy[day-1]])\n",
    "                agent_demand = agent.average_downstream_demand\n",
    "            else:\n",
    "                agent_demand = create_demand(day)\n",
    "                #agent_demand = 0  #If we want to evaluate any static policy\n",
    "            agent.current_policy[day-1] = agent_demand\n",
    "            # Paying for warehousing at the end of the day\n",
    "            agent.pay_for_warehousing()\n",
    "            if agent.current_payout[day-1] > agent.best_payout[day-1]:  # payout the day before\n",
    "                #print(\"I have found a better policy! Year %s \" % (j))\n",
    "                agent.best_policy[day-1] = agent.current_policy[:][day-1]  # [:] because they're mutable\n",
    "                agent.best_payout[day-1] = agent.current_payout[:][day-1]\n",
    "                #print(\"UPDATED! Year %s Agent %s current payout %s updated best payout %s\" % (j, agent.name, agent.current_payout[-1], agent.best_payout[-1]))        \n",
    "            \n",
    "    for agent in agents:  # At the end of the year, save the final payout they got\n",
    "        if j % (total_epochs/20) == 0:   # I will only print 20 views, doesn't matter how many epochs\n",
    "            print(\"Year %s Agent %s current payout %s current best payout %s\" % (j, agent.name, agent.current_payout[-1], agent.best_payout[-1]))        \n",
    "        agent.historic_payout.append(agent.current_payout[-1])     \n",
    "\n",
    "elapsed_time = time.time() - start_time\n",
    "print(\"Total elapsed time for %s epochs : %s\" % (total_epochs, elapsed_time))"
   ]
  },
  {
   "cell_type": "markdown",
   "metadata": {
    "collapsed": false
   },
   "source": [
    "# Thoughts:\n",
    "\n",
    "## Best policies\n",
    "\n",
    "Since there's a cost for warehousing, shouldn't they be learning something like \"deploy all inventory first, *then* start buying\"? Demand is, tops, 2 units per day - why on earth would the retail agent think it's a good idea to buy 50 units the first day? Retail best policy can be seen printing `retail_agent.best_policy`        "
   ]
  },
  {
   "cell_type": "code",
   "execution_count": null,
   "metadata": {
    "collapsed": false
   },
   "outputs": [],
   "source": [
    "p_bp = figure(title=\"Best Policies\", plot_height=450, plot_width=900, x_range = (0,365), y_range=(-1,10))\n",
    "r_bp = p_bp.line(range(365), retail_agent.best_policy, color=\"seagreen\")\n",
    "p_bp.xaxis.axis_label = \"Day\"\n",
    "p_bp.yaxis.axis_label = \"Demand\""
   ]
  },
  {
   "cell_type": "code",
   "execution_count": null,
   "metadata": {
    "collapsed": true
   },
   "outputs": [],
   "source": [
    "def update_policy(Agent):\n",
    "    if   Agent == \"Retail\": agent = retail_agent\n",
    "    elif Agent == \"Wholesale\": agent = wholesale_agent\n",
    "    elif Agent == \"Regional Warehouse\": agent = regional_warehouse_agent\n",
    "    elif Agent == \"Factory\": agent = factory_agent\n",
    "    r_bp.data_source.data['y'] = agent.best_policy\n",
    "    push_notebook()"
   ]
  },
  {
   "cell_type": "code",
   "execution_count": null,
   "metadata": {
    "collapsed": false,
    "scrolled": true
   },
   "outputs": [],
   "source": [
    "show(p_bp, notebook_handle=True)"
   ]
  },
  {
   "cell_type": "code",
   "execution_count": null,
   "metadata": {
    "collapsed": false
   },
   "outputs": [],
   "source": [
    "interact(update_policy, Agent=[\"Factory\", \"Regional Warehouse\", \"Wholesale\", \"Retail\"])"
   ]
  },
  {
   "cell_type": "code",
   "execution_count": null,
   "metadata": {
    "collapsed": false
   },
   "outputs": [],
   "source": []
  },
  {
   "cell_type": "code",
   "execution_count": null,
   "metadata": {
    "collapsed": false
   },
   "outputs": [],
   "source": [
    "p_bp = figure(title=\"Inventories\", plot_height=450, plot_width=900, x_range = (0,365), y_range=(-1,55))\n",
    "r_bp = p_bp.line(range(365), retail_agent.policy_inventory, color=\"seagreen\")\n",
    "p_bp.xaxis.axis_label = \"Day\"\n",
    "p_bp.yaxis.axis_label = \"Inventory\""
   ]
  },
  {
   "cell_type": "code",
   "execution_count": null,
   "metadata": {
    "collapsed": true
   },
   "outputs": [],
   "source": [
    "def policy_inventory(Agent):\n",
    "    if   Agent == \"Retail\": agent = retail_agent\n",
    "    elif Agent == \"Wholesale\": agent = wholesale_agent\n",
    "    elif Agent == \"Regional Warehouse\": agent = regional_warehouse_agent\n",
    "    elif Agent == \"Factory\": agent = factory_agent\n",
    "    r_bp.data_source.data['y'] = agent.policy_inventory\n",
    "    push_notebook()"
   ]
  },
  {
   "cell_type": "code",
   "execution_count": null,
   "metadata": {
    "collapsed": false
   },
   "outputs": [],
   "source": [
    "show(p_bp, notebook_handle=True)"
   ]
  },
  {
   "cell_type": "code",
   "execution_count": null,
   "metadata": {
    "collapsed": false
   },
   "outputs": [],
   "source": [
    "interact(policy_inventory, Agent=[\"Factory\", \"Regional Warehouse\", \"Wholesale\", \"Retail\"])"
   ]
  },
  {
   "cell_type": "code",
   "execution_count": null,
   "metadata": {
    "collapsed": false
   },
   "outputs": [],
   "source": [
    "retail_agent.policy_inventory\n",
    "create_demand(5)"
   ]
  },
  {
   "cell_type": "code",
   "execution_count": null,
   "metadata": {
    "collapsed": false
   },
   "outputs": [],
   "source": [
    "retail_agent.policy_inventory"
   ]
  },
  {
   "cell_type": "code",
   "execution_count": null,
   "metadata": {
    "collapsed": false
   },
   "outputs": [],
   "source": [
    "retail_agent.current_payout"
   ]
  },
  {
   "cell_type": "code",
   "execution_count": null,
   "metadata": {
    "collapsed": false
   },
   "outputs": [],
   "source": [
    "customer_agent.current_policy"
   ]
  },
  {
   "cell_type": "markdown",
   "metadata": {},
   "source": [
    "## Historic payout graphs:\n",
    "\n",
    "I'm finding many different behaviours depending a LOT on initial conditions (initial inventories, selling prices, warehousing costs, etc). With conditions\n",
    "\n",
    "```\n",
    "# Prices and Costs\n",
    "# Prices of one beer at each level of the supply chain.\n",
    "retail_price = 244.5\n",
    "wholesale_price = 9\n",
    "regional_warehouse_price = 8\n",
    "factory_price = 7\n",
    "field_price = 6\n",
    "# Cost of holding one beer during one day on warehouse.\n",
    "# Assumed to be the same for all levels\n",
    "warehouse_price = 0.5\n",
    "# Cost of backlog: non fulfilled orders\n",
    "backlog_cost = 0.01\n",
    "\n",
    "# Initial Inventories\n",
    "retail_ininv = 100\n",
    "wholesale_ininv = 100\n",
    "regional_warehouse_ininv = 100\n",
    "factory_ininv = 100\n",
    "```\n",
    "\n",
    "We can see the three types of convergence:\n",
    "\n",
    "    1. To a middle point, as how a partial average (S(n)/n) would look like\n",
    "    \n",
    "        * For example, *retail*\n",
    "        \n",
    "    2. To an asyntote at the top, which would probably be interpretable as the best payout obtainable\n",
    "    \n",
    "        * For example, *regional warehouse*\n",
    "        \n",
    "    3. Some kind of loss over time - this could be interpreted as follows: since the players are only maximizing their own payouts, the game could lean towards a state in which a subset of the players start winning more and more, while the rest start losing more and more - especially if they're starting to always stick with their \"best\" found policy (this is, getting closer to the end of the training: less exploring and more exploiting) and can't find a way to \"leave\" that vicious cycle\n",
    "    \n",
    "        * For example, *wholesale* and *factory*"
   ]
  },
  {
   "cell_type": "code",
   "execution_count": null,
   "metadata": {
    "collapsed": false
   },
   "outputs": [],
   "source": [
    "p_hp = figure(title=\"Historical Payouts\", plot_height=450, plot_width=900, x_range = (0,total_epochs), y_range=(-3000,2500))\n",
    "r_hp = p_hp.circle(range(total_epochs), factory_agent.historic_payout[1:], size=5, color=\"seagreen\", alpha=0.2)\n",
    "p_hp.xaxis.axis_label = \"Iteration\"\n",
    "p_hp.yaxis.axis_label = \"Obtained Payout\""
   ]
  },
  {
   "cell_type": "code",
   "execution_count": null,
   "metadata": {
    "collapsed": false
   },
   "outputs": [],
   "source": [
    "def update_payout(Agent):\n",
    "    if   Agent == \"Retail\": agent = retail_agent\n",
    "    elif Agent == \"Wholesale\": agent = wholesale_agent\n",
    "    elif Agent == \"Regional Warehouse\": agent = regional_warehouse_agent\n",
    "    elif Agent == \"Factory\": agent = factory_agent\n",
    "    r_hp.data_source.data['y'] = agent.historic_payout[1:]\n",
    "    push_notebook()"
   ]
  },
  {
   "cell_type": "code",
   "execution_count": null,
   "metadata": {
    "collapsed": false
   },
   "outputs": [],
   "source": [
    "show(p_hp, notebook_handle=True)"
   ]
  },
  {
   "cell_type": "code",
   "execution_count": null,
   "metadata": {
    "collapsed": false
   },
   "outputs": [],
   "source": [
    "interact(update_payout, Agent=[\"Factory\", \"Regional Warehouse\", \"Wholesale\", \"Retail\"])"
   ]
  },
  {
   "cell_type": "code",
   "execution_count": null,
   "metadata": {
    "collapsed": false
   },
   "outputs": [],
   "source": []
  },
  {
   "cell_type": "code",
   "execution_count": null,
   "metadata": {
    "collapsed": false
   },
   "outputs": [],
   "source": []
  },
  {
   "cell_type": "code",
   "execution_count": null,
   "metadata": {
    "collapsed": true
   },
   "outputs": [],
   "source": []
  },
  {
   "cell_type": "code",
   "execution_count": null,
   "metadata": {
    "collapsed": false
   },
   "outputs": [],
   "source": []
  },
  {
   "cell_type": "code",
   "execution_count": null,
   "metadata": {
    "collapsed": false
   },
   "outputs": [],
   "source": []
  },
  {
   "cell_type": "code",
   "execution_count": null,
   "metadata": {
    "collapsed": false
   },
   "outputs": [],
   "source": []
  },
  {
   "cell_type": "code",
   "execution_count": null,
   "metadata": {
    "collapsed": false
   },
   "outputs": [],
   "source": []
  },
  {
   "cell_type": "code",
   "execution_count": null,
   "metadata": {
    "collapsed": true
   },
   "outputs": [],
   "source": []
  },
  {
   "cell_type": "code",
   "execution_count": null,
   "metadata": {
    "collapsed": false
   },
   "outputs": [],
   "source": []
  },
  {
   "cell_type": "code",
   "execution_count": null,
   "metadata": {
    "collapsed": false
   },
   "outputs": [],
   "source": []
  },
  {
   "cell_type": "code",
   "execution_count": null,
   "metadata": {
    "collapsed": false
   },
   "outputs": [],
   "source": []
  },
  {
   "cell_type": "code",
   "execution_count": null,
   "metadata": {
    "collapsed": false
   },
   "outputs": [],
   "source": []
  },
  {
   "cell_type": "code",
   "execution_count": null,
   "metadata": {
    "collapsed": false
   },
   "outputs": [],
   "source": []
  },
  {
   "cell_type": "code",
   "execution_count": null,
   "metadata": {
    "collapsed": false
   },
   "outputs": [],
   "source": []
  },
  {
   "cell_type": "code",
   "execution_count": null,
   "metadata": {
    "collapsed": false
   },
   "outputs": [],
   "source": []
  },
  {
   "cell_type": "code",
   "execution_count": null,
   "metadata": {
    "collapsed": false
   },
   "outputs": [],
   "source": []
  },
  {
   "cell_type": "code",
   "execution_count": null,
   "metadata": {
    "collapsed": false
   },
   "outputs": [],
   "source": []
  },
  {
   "cell_type": "code",
   "execution_count": null,
   "metadata": {
    "collapsed": false
   },
   "outputs": [],
   "source": []
  },
  {
   "cell_type": "code",
   "execution_count": null,
   "metadata": {
    "collapsed": true
   },
   "outputs": [],
   "source": []
  }
 ],
 "metadata": {
  "anaconda-cloud": {},
  "kernelspec": {
   "display_name": "Python [default]",
   "language": "python",
   "name": "python3"
  },
  "language_info": {
   "codemirror_mode": {
    "name": "ipython",
    "version": 3
   },
   "file_extension": ".py",
   "mimetype": "text/x-python",
   "name": "python",
   "nbconvert_exporter": "python",
   "pygments_lexer": "ipython3",
   "version": "3.5.2"
  }
 },
 "nbformat": 4,
 "nbformat_minor": 0
}
