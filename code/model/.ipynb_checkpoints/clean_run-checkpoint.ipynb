{
 "cells": [
  {
   "cell_type": "code",
   "execution_count": 1,
   "metadata": {
    "collapsed": true
   },
   "outputs": [],
   "source": [
    "import pandas as pd\n",
    "import numpy as np\n",
    "import time"
   ]
  },
  {
   "cell_type": "code",
   "execution_count": 2,
   "metadata": {
    "collapsed": false
   },
   "outputs": [],
   "source": [
    "## Create world #########################################################\n",
    "## Necessary world information\n",
    "\n",
    "# Getting customer_demand and field_supply trends\n",
    "customer_demand = pd.read_csv(\"../../aux_documents/customer_trend.csv\")\n",
    "fields_supply = pd.read_csv(\"../../aux_documents/fields_trend.csv\")\n",
    "\n",
    "# Prices and Costs\n",
    "# Prices of one beer at each level of the supply chain.\n",
    "retail_price = 10\n",
    "wholesale_price = 9\n",
    "regional_warehouse_price = 8\n",
    "factory_price = 7\n",
    "field_price = 6\n",
    "# Cost of holding one beer during one day on warehouse.\n",
    "# Assumed to be the same for all levels\n",
    "warehouse_price = 0.2\n",
    "# Cost of backlog: non fulfilled orders\n",
    "backlog_cost = 0.1\n",
    "\n",
    "# Initial Inventories\n",
    "retail_ininv = 40\n",
    "wholesale_ininv = 40\n",
    "regional_warehouse_ininv = 40\n",
    "factory_ininv = 40"
   ]
  },
  {
   "cell_type": "code",
   "execution_count": 23,
   "metadata": {
    "collapsed": false
   },
   "outputs": [],
   "source": [
    "# Create the agents that will comprise our supply chain,\n",
    "# and then assign the relationships (upstream, downstream) between them.\n",
    "exec(open(\"world.py\").read())"
   ]
  },
  {
   "cell_type": "code",
   "execution_count": 24,
   "metadata": {
    "collapsed": false
   },
   "outputs": [],
   "source": [
    "## Policy Iteration #####################################################\n",
    "# Basic idea of policy iteration:\n",
    "#    1. Start all agents with the [0]*365 policy, this would be just selling what they have and never restocking or making any decisions. This is the starting benchmark (best policy).\n",
    "#    2. For each agent, for every day of the year, repeat `total_epochs` times:\n",
    "#        2.1 Create a random (epsilon-greedy based) policy (upstream demand) for the day\n",
    "#        2.2 Next morning: make all transactions based on that demand\n",
    "#        2.3 Evaluate the payout of that policy. If the payout is higher than the payout of the best policy, it becomes the new best policy; else, nothing changes.\n",
    "# Note that it might be possible that they don't actually converge to these maximum payouts\n",
    "# think about this as a game: the Nash equilibria don't have to be Pareto optima. \n",
    "# Maybe an agent's maximum payout was obtained with a comibnation of policies that the other three agents will never use again.\n",
    "# Also, towards the end of the learning process, they tend to stick to the best policy they found during the exploration phase, \n",
    "# so if this policy combined with the best policy of another agent leads them to start losing and losing... \n",
    "# I'm just saying it could happen.\n",
    "exec(open(\"policy_iteration.py\").read())"
   ]
  },
  {
   "cell_type": "code",
   "execution_count": null,
   "metadata": {
    "collapsed": false
   },
   "outputs": [],
   "source": []
  },
  {
   "cell_type": "code",
   "execution_count": null,
   "metadata": {
    "collapsed": true
   },
   "outputs": [],
   "source": []
  },
  {
   "cell_type": "code",
   "execution_count": null,
   "metadata": {
    "collapsed": true
   },
   "outputs": [],
   "source": []
  },
  {
   "cell_type": "code",
   "execution_count": null,
   "metadata": {
    "collapsed": true
   },
   "outputs": [],
   "source": []
  },
  {
   "cell_type": "code",
   "execution_count": null,
   "metadata": {
    "collapsed": true
   },
   "outputs": [],
   "source": []
  },
  {
   "cell_type": "code",
   "execution_count": null,
   "metadata": {
    "collapsed": true
   },
   "outputs": [],
   "source": []
  },
  {
   "cell_type": "code",
   "execution_count": null,
   "metadata": {
    "collapsed": true
   },
   "outputs": [],
   "source": []
  },
  {
   "cell_type": "code",
   "execution_count": null,
   "metadata": {
    "collapsed": false
   },
   "outputs": [],
   "source": []
  },
  {
   "cell_type": "code",
   "execution_count": null,
   "metadata": {
    "collapsed": false
   },
   "outputs": [],
   "source": []
  },
  {
   "cell_type": "code",
   "execution_count": null,
   "metadata": {
    "collapsed": false
   },
   "outputs": [],
   "source": []
  },
  {
   "cell_type": "code",
   "execution_count": null,
   "metadata": {
    "collapsed": true
   },
   "outputs": [],
   "source": []
  },
  {
   "cell_type": "code",
   "execution_count": null,
   "metadata": {
    "collapsed": true
   },
   "outputs": [],
   "source": []
  }
 ],
 "metadata": {
  "anaconda-cloud": {},
  "kernelspec": {
   "display_name": "Python [default]",
   "language": "python",
   "name": "python3"
  },
  "language_info": {
   "codemirror_mode": {
    "name": "ipython",
    "version": 3
   },
   "file_extension": ".py",
   "mimetype": "text/x-python",
   "name": "python",
   "nbconvert_exporter": "python",
   "pygments_lexer": "ipython3",
   "version": "3.5.2"
  }
 },
 "nbformat": 4,
 "nbformat_minor": 1
}
