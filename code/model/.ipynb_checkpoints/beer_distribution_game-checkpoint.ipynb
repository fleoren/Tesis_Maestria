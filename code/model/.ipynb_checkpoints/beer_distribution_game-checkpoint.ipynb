{
 "cells": [
  {
   "cell_type": "code",
   "execution_count": null,
   "metadata": {
    "collapsed": false
   },
   "outputs": [],
   "source": [
    "# Important! This notebook runs on Python 3\n",
    "\n",
    "import pandas as pd\n",
    "import numpy as np\n",
    "from numpy import random\n",
    "import time\n",
    "\n",
    "# Visualization\n",
    "from bokeh.plotting import figure, output_file, show\n",
    "from ipywidgets import interact\n",
    "from bokeh.io import push_notebook, show, output_notebook\n",
    "output_notebook()"
   ]
  },
  {
   "cell_type": "code",
   "execution_count": null,
   "metadata": {
    "collapsed": false
   },
   "outputs": [],
   "source": [
    "# Necessary world information\n",
    "\n",
    "# Prices and Costs\n",
    "# Prices of one beer at each level of the supply chain.\n",
    "retail_price = 10\n",
    "wholesale_price = 9\n",
    "regional_warehouse_price = 8\n",
    "factory_price = 7\n",
    "field_price = 6\n",
    "# Cost of holding one beer during one day on warehouse.\n",
    "# Assumed to be the same for all levels\n",
    "warehouse_price = 0.01\n",
    "# Cost of backlog: non fulfilled orders\n",
    "backlog_cost = 0\n",
    "\n",
    "# Initial Inventories\n",
    "retail_ininv = 20\n",
    "wholesale_ininv = 20\n",
    "regional_warehouse_ininv = 20\n",
    "factory_ininv = 20"
   ]
  },
  {
   "cell_type": "code",
   "execution_count": null,
   "metadata": {
    "collapsed": false
   },
   "outputs": [],
   "source": [
    "class Customer:\n",
    "    \"\"\"\n",
    "    This type of agent doesn't learn, just interacts with Retail by demanding beer\n",
    "    \"\"\"\n",
    "    def __init__(self,demand_trend):\n",
    "        self.current_policy = demand_trend['Demand']\n",
    "\n",
    "class Fields:\n",
    "    \"\"\"\n",
    "    This type of agent doesn't learn, just interacts with Factory by supplying beer\n",
    "    \"\"\"\n",
    "    def __init__(self,supply_trend):\n",
    "        self.current_policy = supply_trend['Supply']  \n",
    "\n",
    "class Agent:\n",
    "    \"\"\"\n",
    "    Creates a Beer Supply Chain Agent ready to start interacting\n",
    "    with other agents and learn.\n",
    "    input:\n",
    "    * name (string) indicating the type of agent, can be one of four:\n",
    "    {Retail,Wholesale,Regional_Warehouse,Factory} \n",
    "    * inventory (numeric) starting inventory at day 1 \n",
    "    output: an object of type Agent\n",
    "    \"\"\"\n",
    "    def __init__(self,name,inventory):\n",
    "        \n",
    "        # I am letting different levels have different selling and buying prices\n",
    "        # This could also include different warehousing/backlogs costs\n",
    "        if name == \"Retail\":\n",
    "            self.selling_price = retail_price\n",
    "            self.buying_price = wholesale_price\n",
    "        elif name == \"Wholesale\":\n",
    "            self.selling_price = wholesale_price\n",
    "            self.buying_price = regional_warehouse_price\n",
    "        elif name == \"Regional_Warehouse\":\n",
    "            self.selling_price = regional_warehouse_price\n",
    "            self.buying_price = factory_price\n",
    "        elif name == \"Factory\":\n",
    "            self.selling_price = factory_price\n",
    "            self.buying_price = field_price\n",
    "        \n",
    "        self.name = name\n",
    "        self.initial_inventory = inventory\n",
    "        self.inventory = inventory\n",
    "        self.policy_inventory = [self.initial_inventory] + [-1] * 364\n",
    "        self.total_warehousing_costs = 0\n",
    "        self.total_money = 0\n",
    "        self.backlog = 0\n",
    "        self.current_policy = [0] * 365\n",
    "        self.current_payout = [0] * 365\n",
    "        self.best_policy = [0] * 365\n",
    "        self.best_payout = [-100000000] * 365\n",
    "        self.historic_payout = []\n",
    "        \n",
    "        # These relationships are assigned after the agents are created\n",
    "        self.downstream_agent =  \"\"\n",
    "        self.upstream_agent =  \"\"\n",
    "        # This is needed for having a warm start and not going crazy\n",
    "        self.average_downstream_demand = 0\n",
    "    \n",
    "    def pay_for_warehousing(self):\n",
    "        # Pays for warehousing of inventory: must be done either\n",
    "        # \"first thing in the morning\" or \"last time in the night\"\n",
    "        self.total_money = self.total_money - \\\n",
    "                (self.inventory * warehouse_price)\n",
    "    \n",
    "    def receive_upstream(self,orders):\n",
    "        # Receives orders from upstream agent first thing in the morning\n",
    "        self.inventory = self.inventory + orders\n",
    "        self.total_money = self.total_money - \\\n",
    "                (orders * self.buying_price)\n",
    "        \n",
    "    def give_downstream(self,orders):\n",
    "        # Checks if he has availability to fulfill order,\n",
    "        # fulfills as much as he can\n",
    "        if self.inventory >= orders:\n",
    "            self.total_money = self.total_money + \\\n",
    "                (orders * self.selling_price)\n",
    "            self.inventory = self.inventory - orders\n",
    "            return orders\n",
    "        else:\n",
    "            orders_that_could_be_fulfilled = self.inventory\n",
    "            # Sells all its inventory\n",
    "            self.total_money = self.total_money + \\\n",
    "                (orders_that_could_be_fulfilled * self.selling_price)\n",
    "            # If there were non fulfilled orders, those cause a penalty\n",
    "            self.backlog = (orders - self.inventory) * backlog_cost\n",
    "            self.total_money = self.total_money - self.backlog\n",
    "            self.inventory = 0\n",
    "            return orders_that_could_be_fulfilled"
   ]
  },
  {
   "cell_type": "markdown",
   "metadata": {},
   "source": [
    "# Creating the world \n",
    "\n",
    "We need a customer with a yearly demand trend, and fields with a yearly supply trend.\n",
    "\n",
    "After that, we need to create the agents that will comprise our supply chain, and then assign the relationships (upstream, downstream) between them."
   ]
  },
  {
   "cell_type": "code",
   "execution_count": null,
   "metadata": {
    "collapsed": false
   },
   "outputs": [],
   "source": [
    "# Creating the world! Setting supply and demand trends, assigning interactions between agents\n",
    "\n",
    "# Getting customer_demand and field_supply trends\n",
    "# TODO: Both should be added a small random effect each time (iteration/epoch)\n",
    "customer_demand = pd.read_csv(\"../../aux_documents/customer_trend.csv\")\n",
    "fields_supply = pd.read_csv(\"../../aux_documents/fields_trend.csv\")\n",
    "\n",
    "# Creating Supply Chain Agents\n",
    "customer_agent = Customer(customer_demand)\n",
    "retail_agent = Agent(\"Retail\", retail_ininv)\n",
    "wholesale_agent = Agent(\"Wholesale\", wholesale_ininv)\n",
    "regional_warehouse_agent = Agent(\"Regional_Warehouse\", regional_warehouse_ininv)\n",
    "factory_agent = Agent(\"Factory\",factory_ininv)\n",
    "fields_agent = Fields(fields_supply)\n",
    "\n",
    "# Assigning interactions\n",
    "retail_agent.downstream_agent = customer_agent\n",
    "retail_agent.upstream_agent = wholesale_agent\n",
    "wholesale_agent.downstream_agent = retail_agent\n",
    "wholesale_agent.upstream_agent = regional_warehouse_agent\n",
    "regional_warehouse_agent.downstream_agent = wholesale_agent\n",
    "regional_warehouse_agent.upstream_agent = factory_agent\n",
    "factory_agent.downstream_agent = regional_warehouse_agent\n",
    "factory_agent.upstream_agent = fields_agent"
   ]
  },
  {
   "cell_type": "markdown",
   "metadata": {},
   "source": [
    "Let's take a look at the supply and demand trends!"
   ]
  },
  {
   "cell_type": "code",
   "execution_count": null,
   "metadata": {
    "collapsed": false
   },
   "outputs": [],
   "source": [
    "p_cd = figure(title=\"Customer Demand - weekly trend with a peak on Independence Day and increased demand on Christmas Holidays\", plot_height=450, plot_width=900, x_range = (0,365), y_range=(0,6))\n",
    "r_cd = p_cd.line(range(365), customer_agent.current_policy, color=\"seagreen\")\n",
    "p_cd.xaxis.axis_label = \"Day\"\n",
    "p_cd.yaxis.axis_label = \"Demand\""
   ]
  },
  {
   "cell_type": "code",
   "execution_count": null,
   "metadata": {
    "collapsed": false
   },
   "outputs": [],
   "source": [
    "show(p_cd, notebook_handle=True)"
   ]
  },
  {
   "cell_type": "code",
   "execution_count": null,
   "metadata": {
    "collapsed": false
   },
   "outputs": [],
   "source": [
    "p_fs = figure(title=\"Fields Supply - it's only produced in summertime, with a small lift near the end of June and a big lift during August\", plot_height=450, plot_width=900, x_range = (0,365), y_range=(0,73))\n",
    "r_fs = p_fs.line(range(365), fields_agent.current_policy, color=\"seagreen\")\n",
    "p_fs.xaxis.axis_label = \"Day\"\n",
    "p_fs.yaxis.axis_label = \"Production\""
   ]
  },
  {
   "cell_type": "code",
   "execution_count": null,
   "metadata": {
    "collapsed": false
   },
   "outputs": [],
   "source": [
    "show(p_fs, notebook_handle=True)"
   ]
  },
  {
   "cell_type": "markdown",
   "metadata": {},
   "source": [
    "# Policy Iteration\n",
    "\n",
    "Basic idea of policy iteration:\n",
    "\n",
    "    1. Start all agents with the [0]*365 policy, this would be just selling what they have and never restocking or making any decisions. This is the starting benchmark (best policy).\n",
    "    2. For each agent, for every day of the year, repeat `total_epochs` times:\n",
    "        2.1 Create a random (epsilon-greedy based) policy (upstream demand) for the day\n",
    "        3.1 Next morning: make all transactions based on that demand\n",
    "        4.1 Evaluate the payout of that policy. If the payout is higher than the payout of the best policy, it becomes the new best policy; else, nothing changes.\n",
    "    \n",
    "The code will print out 20 cuts in time to show a general idea of how the agents are learning and working towards their maximum payouts ever obtained.\n",
    "\n",
    "Note that it might be possible that they don't actually converge to these maximum payouts - think about this as a game: the Nash equilibria don't have to be Pareto optima. Maybe an agent's maximum payout was obtained with a comibnation of policies that the other three agents will never use again. Also, towards the end of the learning process, they tend to stick to the best policy they found during the exploration phase, so if this policy combined with the best policy of another agent leads them to start losing and losing... I'm just saying it could happen."
   ]
  },
  {
   "cell_type": "code",
   "execution_count": null,
   "metadata": {
    "collapsed": false,
    "scrolled": true
   },
   "outputs": [],
   "source": [
    "total_epochs = 50000  # 50000 epochs almost always assures convergence, need to find a better way to constraint\n",
    "agents = [retail_agent, wholesale_agent, regional_warehouse_agent, factory_agent]\n",
    "\n",
    "# TODO create a function that doesn't learn, only\n",
    "# asks on t for what the downstream agent asked for on t-1\n",
    "# this would be the equivalent of ordering upstream what the client ordered the previous day\n",
    "def order_by_the_day(agent,day):\n",
    "    return agent.downstream_agent.current_policy[day-1]\n",
    "\n",
    "random.seed(20170130)\n",
    "\n",
    "def create_demand(day):\n",
    "    random.seed(20170130)\n",
    "    x = np.random.uniform(0, 1)\n",
    "    if x < p_exploration:  # exploRation\n",
    "        return random.uniform(0,5)  # 70 is the maximum harvest of all year, occurs August 15th\n",
    "    else:  # exploTation\n",
    "        return agent.best_policy[day-1]\n",
    "    \n",
    "# POLICY ITERATION  ----------------------------------------------------------------  \n",
    "    \n",
    "start_time = time.time()    \n",
    "    \n",
    "for j in range(total_epochs):  \n",
    "    if j % (total_epochs/20) == 0:\n",
    "        print(\" \")  # These last two lines are used for printing - just make sure every time point appears clearly separated\n",
    "    # starts in 1 ends in the first number so it always explores a bit\n",
    "    p_exploration = max(0.005,(total_epochs - j) / total_epochs)  \n",
    "    day = 0\n",
    "    # Reinitialize inventories and money, etc at the beginning of the year\n",
    "    # The only things that should stay are best policies and payout, this is what the agent learns over time\n",
    "    for agent in agents:\n",
    "        agent.inventory = agent.initial_inventory\n",
    "        agent.total_warehousing_costs = 0\n",
    "        agent.total_money = 0\n",
    "        agent.backlog = 0             \n",
    "    \n",
    "    while day < 365:  # one year\n",
    "        #print('')\n",
    "        #print('Day %s' % (day))\n",
    "        day+=1\n",
    "        # PART 1\n",
    "        # Transactions for previous day happen. These are fixed.\n",
    "        # Orders are fulfilled first time in the morning\n",
    "        # Everyone gets their shippings at the same time\n",
    "        # Factory\n",
    "        fulfilled_to_factory = min(factory_agent.current_policy[day-1],\n",
    "                                   max(fields_agent.current_policy[day-1] - factory_agent.current_policy[day-1],0))\n",
    "        factory_agent.receive_upstream(fulfilled_to_factory)\n",
    "        #print('Factory now has %s inventory and %s money' % (factory_agent.inventory, factory_agent.total_money))\n",
    "        # Regional Warehouse\n",
    "        fulfilled_to_regional_warehouse = factory_agent.give_downstream(regional_warehouse_agent.current_policy[day-1])\n",
    "        regional_warehouse_agent.receive_upstream(fulfilled_to_regional_warehouse)\n",
    "        factory_agent.policy_inventory[day-1] = factory_agent.inventory\n",
    "        #print('Regional WH now has %s inventory and %s money' % (regional_warehouse_agent.inventory, regional_warehouse_agent.total_money))\n",
    "        # Wholesale\n",
    "        fulfilled_to_wholesale = regional_warehouse_agent.give_downstream(wholesale_agent.current_policy[day-1])\n",
    "        wholesale_agent.receive_upstream(fulfilled_to_wholesale)\n",
    "        regional_warehouse_agent.policy_inventory[day-1] = regional_warehouse_agent.inventory\n",
    "        #print('Wholesale now has %s inventory and %s money' % (wholesale_agent.inventory, wholesale_agent.total_money))\n",
    "        # Retail\n",
    "        fulfilled_to_retail = wholesale_agent.give_downstream(retail_agent.current_policy[day-1])\n",
    "        retail_agent.receive_upstream(fulfilled_to_retail)\n",
    "        wholesale_agent.policy_inventory[day-1] = wholesale_agent.inventory\n",
    "        #print('Retail now has %s inventory and %s money' % (retail_agent.inventory, retail_agent.total_money))\n",
    "        # Customer\n",
    "        fulfilled_to_customer = retail_agent.give_downstream(customer_agent.current_policy[day-1])\n",
    "        retail_agent.policy_inventory[day-1] = retail_agent.inventory\n",
    "           \n",
    "        for agent in agents:\n",
    "            # PART 2\n",
    "            # How much money did the agent end up with yesterday's decisions?\n",
    "            agent.current_payout[day-1] = agent.total_money\n",
    "            # Agent decides demand for today, which will (might) be fulfilled tomorrow\n",
    "            # First iteration: see what happens if agent doesn't make any decisions, demanding zero\n",
    "            if j == 0:\n",
    "                agent_demand = 0\n",
    "            # 1% of total iterations: try to figure out downstream agent's average demand, to have a warm start    \n",
    "            elif j < 0.01*total_epochs:\n",
    "                agent.average_downstream_demand = np.mean([agent.average_downstream_demand,\n",
    "                                                           agent.downstream_agent.current_policy[day-1]])\n",
    "                agent_demand = agent.average_downstream_demand\n",
    "            else:\n",
    "                agent_demand = create_demand(day)\n",
    "                #agent_demand = 0  #If we want to evaluate any static policy\n",
    "            agent.current_policy[day-1] = agent_demand\n",
    "            # Paying for warehousing at the end of the day\n",
    "            agent.pay_for_warehousing()\n",
    "            if agent.current_payout[day-1] > agent.best_payout[day-1]:  # payout the day before\n",
    "                #print(\"I have found a better policy! Year %s \" % (j))\n",
    "                agent.best_policy[day-1] = agent.current_policy[:][day-1]  # [:] because they're mutable\n",
    "                agent.best_payout[day-1] = agent.current_payout[:][day-1]\n",
    "                #print(\"UPDATED! Year %s Agent %s current payout %s updated best payout %s\" % (j, agent.name, agent.current_payout[-1], agent.best_payout[-1]))        \n",
    "            \n",
    "    for agent in agents:  # At the end of the year, save the final payout they got\n",
    "        if j % (total_epochs/20) == 0:   # I will only print 20 views, doesn't matter how many epochs\n",
    "            print(\"Year %s Agent %s current payout %s current best payout %s\" % (j, agent.name, agent.current_payout[-1], agent.best_payout[-1]))        \n",
    "        agent.historic_payout.append(agent.current_payout[-1])     \n",
    "\n",
    "elapsed_time = time.time() - start_time\n",
    "print(\"Total elapsed time for %s epochs : %s\" % (total_epochs, elapsed_time))"
   ]
  },
  {
   "cell_type": "markdown",
   "metadata": {
    "collapsed": false
   },
   "source": [
    "# Thoughts:\n",
    "\n",
    "## Best policies\n",
    "\n",
    "Since there's a cost for warehousing, shouldn't they be learning something like \"deploy all inventory first, *then* start buying\"? Demand is, tops, 2 units per day - why on earth would the retail agent think it's a good idea to buy 50 units the first day? Retail best policy can be seen printing `retail_agent.best_policy`        "
   ]
  },
  {
   "cell_type": "code",
   "execution_count": null,
   "metadata": {
    "collapsed": false
   },
   "outputs": [],
   "source": [
    "p_bp = figure(title=\"Best Policies\", plot_height=450, plot_width=900, x_range = (0,365), y_range=(-1,10))\n",
    "r_bp = p_bp.line(range(365), retail_agent.best_policy, color=\"seagreen\")\n",
    "p_bp.xaxis.axis_label = \"Day\"\n",
    "p_bp.yaxis.axis_label = \"Demand\""
   ]
  },
  {
   "cell_type": "code",
   "execution_count": null,
   "metadata": {
    "collapsed": true
   },
   "outputs": [],
   "source": [
    "def update_policy(Agent):\n",
    "    if   Agent == \"Retail\": agent = retail_agent\n",
    "    elif Agent == \"Wholesale\": agent = wholesale_agent\n",
    "    elif Agent == \"Regional Warehouse\": agent = regional_warehouse_agent\n",
    "    elif Agent == \"Factory\": agent = factory_agent\n",
    "    r_bp.data_source.data['y'] = agent.best_policy\n",
    "    push_notebook()"
   ]
  },
  {
   "cell_type": "code",
   "execution_count": null,
   "metadata": {
    "collapsed": false,
    "scrolled": true
   },
   "outputs": [],
   "source": [
    "show(p_bp, notebook_handle=True)"
   ]
  },
  {
   "cell_type": "code",
   "execution_count": null,
   "metadata": {
    "collapsed": false
   },
   "outputs": [],
   "source": [
    "interact(update_policy, Agent=[\"Factory\", \"Regional Warehouse\", \"Wholesale\", \"Retail\"])"
   ]
  },
  {
   "cell_type": "code",
   "execution_count": null,
   "metadata": {
    "collapsed": false
   },
   "outputs": [],
   "source": []
  },
  {
   "cell_type": "code",
   "execution_count": null,
   "metadata": {
    "collapsed": false
   },
   "outputs": [],
   "source": [
    "p_bp = figure(title=\"Inventories\", plot_height=450, plot_width=900, x_range = (0,365), y_range=(-1,55))\n",
    "r_bp = p_bp.line(range(365), retail_agent.policy_inventory, color=\"seagreen\")\n",
    "p_bp.xaxis.axis_label = \"Day\"\n",
    "p_bp.yaxis.axis_label = \"Inventory\""
   ]
  },
  {
   "cell_type": "code",
   "execution_count": null,
   "metadata": {
    "collapsed": true
   },
   "outputs": [],
   "source": [
    "def policy_inventory(Agent):\n",
    "    if   Agent == \"Retail\": agent = retail_agent\n",
    "    elif Agent == \"Wholesale\": agent = wholesale_agent\n",
    "    elif Agent == \"Regional Warehouse\": agent = regional_warehouse_agent\n",
    "    elif Agent == \"Factory\": agent = factory_agent\n",
    "    r_bp.data_source.data['y'] = agent.policy_inventory\n",
    "    push_notebook()"
   ]
  },
  {
   "cell_type": "code",
   "execution_count": null,
   "metadata": {
    "collapsed": false
   },
   "outputs": [],
   "source": [
    "show(p_bp, notebook_handle=True)"
   ]
  },
  {
   "cell_type": "code",
   "execution_count": null,
   "metadata": {
    "collapsed": false
   },
   "outputs": [],
   "source": [
    "interact(policy_inventory, Agent=[\"Factory\", \"Regional Warehouse\", \"Wholesale\", \"Retail\"])"
   ]
  },
  {
   "cell_type": "code",
   "execution_count": null,
   "metadata": {
    "collapsed": false
   },
   "outputs": [],
   "source": [
    "retail_agent.policy_inventory\n",
    "create_demand(5)"
   ]
  },
  {
   "cell_type": "code",
   "execution_count": null,
   "metadata": {
    "collapsed": false
   },
   "outputs": [],
   "source": [
    "retail_agent.policy_inventory"
   ]
  },
  {
   "cell_type": "code",
   "execution_count": null,
   "metadata": {
    "collapsed": false
   },
   "outputs": [],
   "source": [
    "retail_agent.current_payout"
   ]
  },
  {
   "cell_type": "code",
   "execution_count": null,
   "metadata": {
    "collapsed": false
   },
   "outputs": [],
   "source": [
    "customer_agent.current_policy"
   ]
  },
  {
   "cell_type": "markdown",
   "metadata": {},
   "source": [
    "## Historic payout graphs:\n",
    "\n",
    "I'm finding many different behaviours depending a LOT on initial conditions (initial inventories, selling prices, warehousing costs, etc). With conditions\n",
    "\n",
    "```\n",
    "# Prices and Costs\n",
    "# Prices of one beer at each level of the supply chain.\n",
    "retail_price = 244.5\n",
    "wholesale_price = 9\n",
    "regional_warehouse_price = 8\n",
    "factory_price = 7\n",
    "field_price = 6\n",
    "# Cost of holding one beer during one day on warehouse.\n",
    "# Assumed to be the same for all levels\n",
    "warehouse_price = 0.5\n",
    "# Cost of backlog: non fulfilled orders\n",
    "backlog_cost = 0.01\n",
    "\n",
    "# Initial Inventories\n",
    "retail_ininv = 100\n",
    "wholesale_ininv = 100\n",
    "regional_warehouse_ininv = 100\n",
    "factory_ininv = 100\n",
    "```\n",
    "\n",
    "We can see the three types of convergence:\n",
    "\n",
    "    1. To a middle point, as how a partial average (S(n)/n) would look like\n",
    "    \n",
    "        * For example, *retail*\n",
    "        \n",
    "    2. To an asyntote at the top, which would probably be interpretable as the best payout obtainable\n",
    "    \n",
    "        * For example, *regional warehouse*\n",
    "        \n",
    "    3. Some kind of loss over time - this could be interpreted as follows: since the players are only maximizing their own payouts, the game could lean towards a state in which a subset of the players start winning more and more, while the rest start losing more and more - especially if they're starting to always stick with their \"best\" found policy (this is, getting closer to the end of the training: less exploring and more exploiting) and can't find a way to \"leave\" that vicious cycle\n",
    "    \n",
    "        * For example, *wholesale* and *factory*"
   ]
  },
  {
   "cell_type": "code",
   "execution_count": null,
   "metadata": {
    "collapsed": false
   },
   "outputs": [],
   "source": [
    "p_hp = figure(title=\"Historical Payouts\", plot_height=450, plot_width=900, x_range = (0,total_epochs), y_range=(-3000,2500))\n",
    "r_hp = p_hp.circle(range(total_epochs), factory_agent.historic_payout[1:], size=5, color=\"seagreen\", alpha=0.2)\n",
    "p_hp.xaxis.axis_label = \"Iteration\"\n",
    "p_hp.yaxis.axis_label = \"Obtained Payout\""
   ]
  },
  {
   "cell_type": "code",
   "execution_count": null,
   "metadata": {
    "collapsed": false
   },
   "outputs": [],
   "source": [
    "def update_payout(Agent):\n",
    "    if   Agent == \"Retail\": agent = retail_agent\n",
    "    elif Agent == \"Wholesale\": agent = wholesale_agent\n",
    "    elif Agent == \"Regional Warehouse\": agent = regional_warehouse_agent\n",
    "    elif Agent == \"Factory\": agent = factory_agent\n",
    "    r_hp.data_source.data['y'] = agent.historic_payout[1:]\n",
    "    push_notebook()"
   ]
  },
  {
   "cell_type": "code",
   "execution_count": null,
   "metadata": {
    "collapsed": false
   },
   "outputs": [],
   "source": [
    "show(p_hp, notebook_handle=True)"
   ]
  },
  {
   "cell_type": "code",
   "execution_count": null,
   "metadata": {
    "collapsed": false
   },
   "outputs": [],
   "source": [
    "interact(update_payout, Agent=[\"Factory\", \"Regional Warehouse\", \"Wholesale\", \"Retail\"])"
   ]
  },
  {
   "cell_type": "code",
   "execution_count": null,
   "metadata": {
    "collapsed": false
   },
   "outputs": [],
   "source": []
  },
  {
   "cell_type": "code",
   "execution_count": null,
   "metadata": {
    "collapsed": false
   },
   "outputs": [],
   "source": []
  },
  {
   "cell_type": "code",
   "execution_count": null,
   "metadata": {
    "collapsed": true
   },
   "outputs": [],
   "source": []
  },
  {
   "cell_type": "code",
   "execution_count": null,
   "metadata": {
    "collapsed": false
   },
   "outputs": [],
   "source": []
  },
  {
   "cell_type": "code",
   "execution_count": null,
   "metadata": {
    "collapsed": false
   },
   "outputs": [],
   "source": []
  },
  {
   "cell_type": "code",
   "execution_count": null,
   "metadata": {
    "collapsed": false
   },
   "outputs": [],
   "source": []
  },
  {
   "cell_type": "code",
   "execution_count": null,
   "metadata": {
    "collapsed": false
   },
   "outputs": [],
   "source": []
  },
  {
   "cell_type": "code",
   "execution_count": null,
   "metadata": {
    "collapsed": true
   },
   "outputs": [],
   "source": []
  },
  {
   "cell_type": "code",
   "execution_count": null,
   "metadata": {
    "collapsed": false
   },
   "outputs": [],
   "source": []
  },
  {
   "cell_type": "code",
   "execution_count": null,
   "metadata": {
    "collapsed": false
   },
   "outputs": [],
   "source": []
  },
  {
   "cell_type": "code",
   "execution_count": null,
   "metadata": {
    "collapsed": false
   },
   "outputs": [],
   "source": []
  },
  {
   "cell_type": "code",
   "execution_count": null,
   "metadata": {
    "collapsed": false
   },
   "outputs": [],
   "source": []
  },
  {
   "cell_type": "code",
   "execution_count": null,
   "metadata": {
    "collapsed": false
   },
   "outputs": [],
   "source": []
  },
  {
   "cell_type": "code",
   "execution_count": null,
   "metadata": {
    "collapsed": false
   },
   "outputs": [],
   "source": []
  },
  {
   "cell_type": "code",
   "execution_count": null,
   "metadata": {
    "collapsed": false
   },
   "outputs": [],
   "source": []
  },
  {
   "cell_type": "code",
   "execution_count": null,
   "metadata": {
    "collapsed": false
   },
   "outputs": [],
   "source": []
  },
  {
   "cell_type": "code",
   "execution_count": null,
   "metadata": {
    "collapsed": false
   },
   "outputs": [],
   "source": []
  },
  {
   "cell_type": "code",
   "execution_count": null,
   "metadata": {
    "collapsed": false
   },
   "outputs": [],
   "source": []
  },
  {
   "cell_type": "code",
   "execution_count": null,
   "metadata": {
    "collapsed": true
   },
   "outputs": [],
   "source": []
  }
 ],
 "metadata": {
  "anaconda-cloud": {},
  "kernelspec": {
   "display_name": "Python [default]",
   "language": "python",
   "name": "python3"
  },
  "language_info": {
   "codemirror_mode": {
    "name": "ipython",
    "version": 3
   },
   "file_extension": ".py",
   "mimetype": "text/x-python",
   "name": "python",
   "nbconvert_exporter": "python",
   "pygments_lexer": "ipython3",
   "version": "3.5.2"
  }
 },
 "nbformat": 4,
 "nbformat_minor": 0
}
